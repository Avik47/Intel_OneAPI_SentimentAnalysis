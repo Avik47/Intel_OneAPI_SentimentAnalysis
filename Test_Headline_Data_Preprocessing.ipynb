{
  "nbformat": 4,
  "nbformat_minor": 0,
  "metadata": {
    "colab": {
      "provenance": []
    },
    "kernelspec": {
      "name": "python3",
      "display_name": "Python 3"
    },
    "language_info": {
      "name": "python"
    }
  },
  "cells": [
    {
      "cell_type": "code",
      "source": [
        "from google.colab import drive\n",
        "drive.mount('/content/drive')"
      ],
      "metadata": {
        "colab": {
          "base_uri": "https://localhost:8080/"
        },
        "id": "G3PiXr5miKDI",
        "outputId": "25338227-38a5-468b-94f3-923bcc375ba2"
      },
      "execution_count": null,
      "outputs": [
        {
          "output_type": "stream",
          "name": "stdout",
          "text": [
            "Mounted at /content/drive\n"
          ]
        }
      ]
    },
    {
      "cell_type": "markdown",
      "source": [
        "# ***Why Modin?***\n",
        "\n",
        "We use Modin, (developed by Intel and part of One-MKL): The drop-in replacement for Pandas which provided several benefits, like\n",
        "Reduced Memory Usage\n",
        "Improved Performance \n",
        "Scalability"
      ],
      "metadata": {
        "id": "A9lX3mUjHAja"
      }
    },
    {
      "cell_type": "code",
      "source": [
        "!pip install modin[all]"
      ],
      "metadata": {
        "id": "HkEfXqohpAsF"
      },
      "execution_count": null,
      "outputs": []
    },
    {
      "cell_type": "code",
      "execution_count": null,
      "metadata": {
        "id": "Ng2Jx1Dudego"
      },
      "outputs": [],
      "source": [
        "#import pandas as pd\n",
        "import modin.pandas as pd"
      ]
    },
    {
      "cell_type": "code",
      "source": [
        "df=pd.read_csv(\"/content/drive/MyDrive/Intel Challenge/test_data_sentiment.csv\")"
      ],
      "metadata": {
        "id": "1mluU0HMd92z"
      },
      "execution_count": null,
      "outputs": []
    },
    {
      "cell_type": "code",
      "source": [
        "df.head()"
      ],
      "metadata": {
        "colab": {
          "base_uri": "https://localhost:8080/",
          "height": 379
        },
        "id": "kXPYJGqVeB7v",
        "outputId": "2453d1a7-ba77-4508-c204-d3b844c22927"
      },
      "execution_count": null,
      "outputs": [
        {
          "output_type": "execute_result",
          "data": {
            "text/plain": [
              "       IDLink                                              Title  \\\n",
              "0  BJ8bLZcYcm    How Millennials Are Changing The Global Economy   \n",
              "1  ph8TGKbvNp     China Promises It Will Keep Its Economy Strong   \n",
              "2  qJDgUHX7Ay            Fed eyes increased risks for US economy   \n",
              "3  2MVdzsl9s1            Obama to visit Cuba next month: reports   \n",
              "4  6QFCqKq50Q  White House: Obama Will Not Attend Justice Sca...   \n",
              "\n",
              "                                            Headline               Source  \\\n",
              "0  But though millennials may have been born into...        Seeking Alpha   \n",
              "1  \"\"\"China's economic fundamentals have not chan...              Fortune   \n",
              "2  Many Federal Reserve policymakers saw increase...      Financial Times   \n",
              "3  US President Barack Obama will make a historic...  AFP via Yahoo! News   \n",
              "4  President Barack Obama will not attend Justice...          NBCNews.com   \n",
              "\n",
              "     Topic       PublishDate  Facebook  GooglePlus  LinkedIn  \n",
              "0  economy  17-02-2016 19:09         6           0         3  \n",
              "1  economy  17-02-2016 19:10         5           1         1  \n",
              "2  economy  17-02-2016 19:10        45           2        40  \n",
              "3    obama  17-02-2016 19:12        17           0         0  \n",
              "4    obama  17-02-2016 19:12      5568         181        36  "
            ],
            "text/html": [
              "<div>\n",
              "<style scoped>\n",
              "    .dataframe tbody tr th:only-of-type {\n",
              "        vertical-align: middle;\n",
              "    }\n",
              "\n",
              "    .dataframe tbody tr th {\n",
              "        vertical-align: top;\n",
              "    }\n",
              "\n",
              "    .dataframe thead th {\n",
              "        text-align: right;\n",
              "    }\n",
              "</style>\n",
              "<table border=\"1\" class=\"dataframe\">\n",
              "  <thead>\n",
              "    <tr style=\"text-align: right;\">\n",
              "      <th></th>\n",
              "      <th>IDLink</th>\n",
              "      <th>Title</th>\n",
              "      <th>Headline</th>\n",
              "      <th>Source</th>\n",
              "      <th>Topic</th>\n",
              "      <th>PublishDate</th>\n",
              "      <th>Facebook</th>\n",
              "      <th>GooglePlus</th>\n",
              "      <th>LinkedIn</th>\n",
              "    </tr>\n",
              "  </thead>\n",
              "  <tbody>\n",
              "    <tr>\n",
              "      <th>0</th>\n",
              "      <td>BJ8bLZcYcm</td>\n",
              "      <td>How Millennials Are Changing The Global Economy</td>\n",
              "      <td>But though millennials may have been born into...</td>\n",
              "      <td>Seeking Alpha</td>\n",
              "      <td>economy</td>\n",
              "      <td>17-02-2016 19:09</td>\n",
              "      <td>6</td>\n",
              "      <td>0</td>\n",
              "      <td>3</td>\n",
              "    </tr>\n",
              "    <tr>\n",
              "      <th>1</th>\n",
              "      <td>ph8TGKbvNp</td>\n",
              "      <td>China Promises It Will Keep Its Economy Strong</td>\n",
              "      <td>\"\"\"China's economic fundamentals have not chan...</td>\n",
              "      <td>Fortune</td>\n",
              "      <td>economy</td>\n",
              "      <td>17-02-2016 19:10</td>\n",
              "      <td>5</td>\n",
              "      <td>1</td>\n",
              "      <td>1</td>\n",
              "    </tr>\n",
              "    <tr>\n",
              "      <th>2</th>\n",
              "      <td>qJDgUHX7Ay</td>\n",
              "      <td>Fed eyes increased risks for US economy</td>\n",
              "      <td>Many Federal Reserve policymakers saw increase...</td>\n",
              "      <td>Financial Times</td>\n",
              "      <td>economy</td>\n",
              "      <td>17-02-2016 19:10</td>\n",
              "      <td>45</td>\n",
              "      <td>2</td>\n",
              "      <td>40</td>\n",
              "    </tr>\n",
              "    <tr>\n",
              "      <th>3</th>\n",
              "      <td>2MVdzsl9s1</td>\n",
              "      <td>Obama to visit Cuba next month: reports</td>\n",
              "      <td>US President Barack Obama will make a historic...</td>\n",
              "      <td>AFP via Yahoo! News</td>\n",
              "      <td>obama</td>\n",
              "      <td>17-02-2016 19:12</td>\n",
              "      <td>17</td>\n",
              "      <td>0</td>\n",
              "      <td>0</td>\n",
              "    </tr>\n",
              "    <tr>\n",
              "      <th>4</th>\n",
              "      <td>6QFCqKq50Q</td>\n",
              "      <td>White House: Obama Will Not Attend Justice Sca...</td>\n",
              "      <td>President Barack Obama will not attend Justice...</td>\n",
              "      <td>NBCNews.com</td>\n",
              "      <td>obama</td>\n",
              "      <td>17-02-2016 19:12</td>\n",
              "      <td>5568</td>\n",
              "      <td>181</td>\n",
              "      <td>36</td>\n",
              "    </tr>\n",
              "  </tbody>\n",
              "</table>\n",
              "</div>"
            ]
          },
          "metadata": {},
          "execution_count": 7
        }
      ]
    },
    {
      "cell_type": "code",
      "source": [
        "import numpy as np"
      ],
      "metadata": {
        "id": "v4_MqwXcgXW7"
      },
      "execution_count": null,
      "outputs": []
    },
    {
      "cell_type": "code",
      "source": [
        "headline = list(df['Headline'])\n",
        "title = list(df['Title'])"
      ],
      "metadata": {
        "id": "OfhRjwDXyBDH"
      },
      "execution_count": null,
      "outputs": []
    },
    {
      "cell_type": "code",
      "source": [
        "print(title[1])\n",
        "print(headline[1])"
      ],
      "metadata": {
        "id": "w1MC3Y9qyGLD"
      },
      "execution_count": null,
      "outputs": []
    },
    {
      "cell_type": "code",
      "source": [
        "print(len(title))\n",
        "print(len(headline))\n"
      ],
      "metadata": {
        "colab": {
          "base_uri": "https://localhost:8080/"
        },
        "id": "ZeElK2bGyM8i",
        "outputId": "abb1f021-d567-41b7-cfd0-3a117ce0487b"
      },
      "execution_count": null,
      "outputs": [
        {
          "output_type": "execute_result",
          "data": {
            "text/plain": [
              "15424"
            ]
          },
          "metadata": {},
          "execution_count": 78
        }
      ]
    },
    {
      "cell_type": "markdown",
      "source": [
        "# **Convert words of the sentence into features using Word2Vec** \n",
        " Word embeddings is a technique where individual words are transformed into a numerical representation of the word (a vector). Where each word is mapped to one vector, this vector is then learned in a way which resembles a neural network.The effectiveness of Word2Vec comes from its ability to group together vectors of similar words. Given a large enough dataset, Word2Vec can make strong estimates about a word’s meaning based on their occurrences in the text."
      ],
      "metadata": {
        "id": "FT9gbBwEwnL1"
      }
    },
    {
      "cell_type": "code",
      "source": [
        "import gensim.downloader as api\n",
        "\n",
        "info = api.info()  # show info about available models/datasets\n",
        "model = api.load(\"word2vec-google-news-300\") "
      ],
      "metadata": {
        "colab": {
          "base_uri": "https://localhost:8080/"
        },
        "id": "2VST7S3LgXZ4",
        "outputId": "715bee2a-4844-40ab-f80f-57b301f1eb66"
      },
      "execution_count": null,
      "outputs": [
        {
          "output_type": "stream",
          "name": "stdout",
          "text": [
            "[=================================================-] 99.9% 1661.6/1662.8MB downloaded\n"
          ]
        }
      ]
    },
    {
      "cell_type": "code",
      "source": [
        "import nltk\n",
        "nltk.download('punkt')\n",
        "\n",
        "title_words = [ nltk.word_tokenize(sent.lower()) for sent in title]\n",
        "\n",
        "headline_words = [nltk.word_tokenize(sent.lower()) for sent in headline]"
      ],
      "metadata": {
        "colab": {
          "base_uri": "https://localhost:8080/"
        },
        "id": "K753rKUaejai",
        "outputId": "f269b7b5-4096-463d-881c-4b391a5c1910"
      },
      "execution_count": null,
      "outputs": [
        {
          "output_type": "stream",
          "name": "stderr",
          "text": [
            "[nltk_data] Downloading package punkt to /root/nltk_data...\n",
            "[nltk_data]   Package punkt is already up-to-date!\n"
          ]
        }
      ]
    },
    {
      "cell_type": "markdown",
      "source": [
        "# ***Remove Stopwords***"
      ],
      "metadata": {
        "id": "N5-UbEamwwDR"
      }
    },
    {
      "cell_type": "markdown",
      "source": [
        "**From title**"
      ],
      "metadata": {
        "id": "OCZdmhe8Ccxs"
      }
    },
    {
      "cell_type": "code",
      "source": [
        "from nltk.corpus import stopwords\n",
        "nltk.download('stopwords')\n",
        "\n",
        "stop_words = set(stopwords.words('english'))\n",
        "\n",
        "Sem_Words_title=[]\n",
        "Sub_List_title=[]\n",
        "for sent in title_words:\n",
        "  for word in sent:\n",
        "    if word not in stop_words and word.isalnum():\n",
        "      Sub_List_title.append(word)\n",
        "  Sem_Words_title.append(Sub_List_title)\n",
        "  Sub_List_title=[]"
      ],
      "metadata": {
        "colab": {
          "base_uri": "https://localhost:8080/"
        },
        "id": "Vtmw5mpUejdR",
        "outputId": "109224e8-edd9-4109-c0ff-7b9290bedbb2"
      },
      "execution_count": null,
      "outputs": [
        {
          "output_type": "stream",
          "name": "stderr",
          "text": [
            "[nltk_data] Downloading package stopwords to /root/nltk_data...\n",
            "[nltk_data]   Package stopwords is already up-to-date!\n"
          ]
        }
      ]
    },
    {
      "cell_type": "markdown",
      "source": [
        "**From Heading**"
      ],
      "metadata": {
        "id": "9jzNSWfyDOFb"
      }
    },
    {
      "cell_type": "code",
      "source": [
        "Sem_Words_head=[]\n",
        "Sub_List_head=[]\n",
        "for sent in headline_words:\n",
        "  for word in sent:\n",
        "    if word not in stop_words and word.isalnum():\n",
        "      Sub_List_head.append(word)\n",
        "  Sem_Words_head.append(Sub_List_head)\n",
        "  Sub_List_head=[]"
      ],
      "metadata": {
        "id": "R3DGN76dCW2s"
      },
      "execution_count": null,
      "outputs": []
    },
    {
      "cell_type": "markdown",
      "source": [
        "# ***Create Sentence embedding from word embeddings*** - \n",
        "\n",
        "\n",
        "\n"
      ],
      "metadata": {
        "id": "vWBXVJJfw2dd"
      }
    },
    {
      "cell_type": "markdown",
      "source": [
        "**From Title**"
      ],
      "metadata": {
        "id": "K6Mmgb8dDSUL"
      }
    },
    {
      "cell_type": "code",
      "source": [
        "word_vectors_mat_title=[]\n",
        "for sent in Sem_Words_title:\n",
        "  i=0\n",
        "  if len(sent)>18 :\n",
        "   word_vectors = [model[sent[i]] for i in range(18) if sent[i] in model.key_to_index]\n",
        "  else:\n",
        "   word_vectors = [model[words] for words in sent if words in model.key_to_index]\n",
        "  word_vectors_mat_title.append(word_vectors)\n",
        "  word_vectors=[]"
      ],
      "metadata": {
        "id": "h_HGQFpJrVgq"
      },
      "execution_count": null,
      "outputs": []
    },
    {
      "cell_type": "code",
      "source": [
        "print(len(word_vectors_mat_title[1][1]))"
      ],
      "metadata": {
        "colab": {
          "base_uri": "https://localhost:8080/"
        },
        "id": "ER3DXnCumupN",
        "outputId": "ae1366e0-8143-4785-cb2a-30defb4e05df"
      },
      "execution_count": null,
      "outputs": [
        {
          "output_type": "stream",
          "name": "stdout",
          "text": [
            "300\n"
          ]
        }
      ]
    },
    {
      "cell_type": "code",
      "source": [
        "sentence_embedding_mat_title=[]\n",
        "for word_vectors in word_vectors_mat_title:\n",
        "  \n",
        "  sentence_embedding = [np.mean(word_vectors) for words in word_vectors]\n",
        "  sentence_embedding_mat_title.append(sentence_embedding)\n",
        "\n",
        "sentence_embedding_mat_title=np.array(sentence_embedding_mat)"
      ],
      "metadata": {
        "id": "23DABAminQnh",
        "colab": {
          "base_uri": "https://localhost:8080/"
        },
        "outputId": "cc0e22c9-978b-4502-9ffb-d984d8f3c060"
      },
      "execution_count": null,
      "outputs": [
        {
          "output_type": "stream",
          "name": "stderr",
          "text": [
            "VisibleDeprecationWarning: Creating an ndarray from ragged nested sequences (which is a list-or-tuple of lists-or-tuples-or ndarrays with different lengths or shapes) is deprecated. If you meant to do this, you must specify 'dtype=object' when creating the ndarray.\n"
          ]
        }
      ]
    },
    {
      "cell_type": "markdown",
      "source": [
        "**From Headline**"
      ],
      "metadata": {
        "id": "QQeSoVHuDlUy"
      }
    },
    {
      "cell_type": "code",
      "source": [
        "word_vectors_mat_head=[]\n",
        "for sent in Sem_Words_head:\n",
        "  i=0\n",
        "  if len(sent)>48 :\n",
        "   word_vectors = [model[sent[i]] for i in range(48) if sent[i] in model.key_to_index]\n",
        "  else:\n",
        "   word_vectors = [model[words] for words in sent if words in model.key_to_index]\n",
        "  word_vectors_mat_head.append(word_vectors)\n",
        "  word_vectors=[]"
      ],
      "metadata": {
        "id": "avTr6t7rDhXS"
      },
      "execution_count": null,
      "outputs": []
    },
    {
      "cell_type": "code",
      "source": [
        "sentence_embedding_mat_head=[]\n",
        "for word_vectors in word_vectors_mat_head:\n",
        "  \n",
        "  sentence_embedding = [np.mean(word_vectors) for words in word_vectors]\n",
        "  sentence_embedding_mat_head.append(sentence_embedding)\n",
        "\n",
        "sentence_embedding_mat_head=np.array(sentence_embedding_mat)"
      ],
      "metadata": {
        "id": "5sLrX_uCEFJi"
      },
      "execution_count": null,
      "outputs": []
    },
    {
      "cell_type": "code",
      "source": [
        "print(sentence_embedding_mat_head[15423])"
      ],
      "metadata": {
        "id": "cznXG4EHejiV"
      },
      "execution_count": null,
      "outputs": []
    },
    {
      "cell_type": "code",
      "source": [
        "print(sentence_embedding_mat_head.shape)"
      ],
      "metadata": {
        "id": "tpIWw_tGoVs6"
      },
      "execution_count": null,
      "outputs": []
    },
    {
      "cell_type": "code",
      "source": [
        "max_length_headline = 48\n",
        "max_length_title = 18"
      ],
      "metadata": {
        "id": "hYT3NmpLs9Ij"
      },
      "execution_count": null,
      "outputs": []
    },
    {
      "cell_type": "markdown",
      "source": [
        "# ***Final Sentence Embedding Matrix Preparation***"
      ],
      "metadata": {
        "id": "e4oHcx5Kw85i"
      }
    },
    {
      "cell_type": "code",
      "source": [
        "final_sent_mat_title = []\n",
        "final_sent_mat_head = []"
      ],
      "metadata": {
        "id": "OFUSKeo1r8WC"
      },
      "execution_count": null,
      "outputs": []
    },
    {
      "cell_type": "markdown",
      "source": [
        "**For Title**"
      ],
      "metadata": {
        "id": "YCv42uJHE8DT"
      }
    },
    {
      "cell_type": "code",
      "source": [
        "i=0\n",
        "for i in range(len(sentence_embedding_mat_title)):\n",
        "  sentence_embedding = list(sentence_embedding_mat_title[i])\n",
        "  sent_size = len(sentence_embedding)\n",
        "  if max_length_title-sent_size > 0:\n",
        "   sentence_embedding = sentence_embedding + [0]*(max_length_title - sent_size) \n",
        "  final_sent_mat_title.append(sentence_embedding) "
      ],
      "metadata": {
        "id": "qSj73f3BfxsF"
      },
      "execution_count": null,
      "outputs": []
    },
    {
      "cell_type": "code",
      "source": [
        "final_sent_mat_title = np.array(final_sent_mat_title)\n",
        "final_sent_mat_title = final_sent_mat_title.astype('float64')\n"
      ],
      "metadata": {
        "id": "4yaCOt2XsFWK"
      },
      "execution_count": null,
      "outputs": []
    },
    {
      "cell_type": "code",
      "source": [
        "final_sent_mat_title.shape"
      ],
      "metadata": {
        "colab": {
          "base_uri": "https://localhost:8080/"
        },
        "id": "xuCh5WkisalJ",
        "outputId": "63cd4959-efe0-4cb7-f215-368de8e81699"
      },
      "execution_count": null,
      "outputs": [
        {
          "output_type": "execute_result",
          "data": {
            "text/plain": [
              "(15424, 48)"
            ]
          },
          "metadata": {},
          "execution_count": 90
        }
      ]
    },
    {
      "cell_type": "code",
      "source": [
        "df_test_title={\"ID_Link\":list(df['IDLink']),\"Test_Title\":list(final_sent_mat_title)}\n",
        "df_test_headline = {\"ID_Link\":list(df['IDLink']),\"Test_Headline\":list(final_sent_mat_head)}"
      ],
      "metadata": {
        "id": "Jh0rt_tL85Ou"
      },
      "execution_count": null,
      "outputs": []
    },
    {
      "cell_type": "markdown",
      "source": [
        "# **Saving the final preprocessed data for the headline and title**"
      ],
      "metadata": {
        "id": "fV99asemBewj"
      }
    },
    {
      "cell_type": "code",
      "source": [
        "df_final_test_title = pd.DataFrame.from_dict(df_test_title)"
      ],
      "metadata": {
        "id": "YWaCoFBj9jOQ",
        "colab": {
          "base_uri": "https://localhost:8080/"
        },
        "outputId": "536e73f3-8be5-43b5-97a6-9248f3ae9bb3"
      },
      "execution_count": null,
      "outputs": [
        {
          "output_type": "stream",
          "name": "stderr",
          "text": [
            "UserWarning: `from_dict` is not currently supported by PandasOnRay, defaulting to pandas implementation.\n"
          ]
        }
      ]
    },
    {
      "cell_type": "code",
      "source": [
        "df_final_test_head = pd.DataFrame.from_dict(df_test_headline)"
      ],
      "metadata": {
        "id": "Ah4Xjgh7Fv2r"
      },
      "execution_count": null,
      "outputs": []
    },
    {
      "cell_type": "markdown",
      "source": [
        "# ***Visualizing the Preprocessed Data***"
      ],
      "metadata": {
        "id": "WNEtqLGfGDW6"
      }
    },
    {
      "cell_type": "code",
      "source": [
        "df_final_test_head.head()"
      ],
      "metadata": {
        "colab": {
          "base_uri": "https://localhost:8080/",
          "height": 206
        },
        "id": "BhQLdip596hP",
        "outputId": "610baace-ffe9-4e04-e28a-3bea9ab0c79b"
      },
      "execution_count": null,
      "outputs": [
        {
          "output_type": "execute_result",
          "data": {
            "text/plain": [
              "      ID_Link                                      Test_Headline\n",
              "0  BJ8bLZcYcm  [0.00039006926817819476, 0.0003900692681781947...\n",
              "1  ph8TGKbvNp  [0.00402815779671073, 0.00402815779671073, 0.0...\n",
              "2  qJDgUHX7Ay  [-0.005776678677648306, -0.005776678677648306,...\n",
              "3  2MVdzsl9s1  [0.003517178585752845, 0.003517178585752845, 0...\n",
              "4  6QFCqKq50Q  [0.0019788655918091536, 0.0019788655918091536,..."
            ],
            "text/html": [
              "<div>\n",
              "<style scoped>\n",
              "    .dataframe tbody tr th:only-of-type {\n",
              "        vertical-align: middle;\n",
              "    }\n",
              "\n",
              "    .dataframe tbody tr th {\n",
              "        vertical-align: top;\n",
              "    }\n",
              "\n",
              "    .dataframe thead th {\n",
              "        text-align: right;\n",
              "    }\n",
              "</style>\n",
              "<table border=\"1\" class=\"dataframe\">\n",
              "  <thead>\n",
              "    <tr style=\"text-align: right;\">\n",
              "      <th></th>\n",
              "      <th>ID_Link</th>\n",
              "      <th>Test_Headline</th>\n",
              "    </tr>\n",
              "  </thead>\n",
              "  <tbody>\n",
              "    <tr>\n",
              "      <th>0</th>\n",
              "      <td>BJ8bLZcYcm</td>\n",
              "      <td>[0.00039006926817819476, 0.0003900692681781947...</td>\n",
              "    </tr>\n",
              "    <tr>\n",
              "      <th>1</th>\n",
              "      <td>ph8TGKbvNp</td>\n",
              "      <td>[0.00402815779671073, 0.00402815779671073, 0.0...</td>\n",
              "    </tr>\n",
              "    <tr>\n",
              "      <th>2</th>\n",
              "      <td>qJDgUHX7Ay</td>\n",
              "      <td>[-0.005776678677648306, -0.005776678677648306,...</td>\n",
              "    </tr>\n",
              "    <tr>\n",
              "      <th>3</th>\n",
              "      <td>2MVdzsl9s1</td>\n",
              "      <td>[0.003517178585752845, 0.003517178585752845, 0...</td>\n",
              "    </tr>\n",
              "    <tr>\n",
              "      <th>4</th>\n",
              "      <td>6QFCqKq50Q</td>\n",
              "      <td>[0.0019788655918091536, 0.0019788655918091536,...</td>\n",
              "    </tr>\n",
              "  </tbody>\n",
              "</table>\n",
              "</div>"
            ]
          },
          "metadata": {},
          "execution_count": 93
        }
      ]
    },
    {
      "cell_type": "code",
      "source": [
        "df_final_test_title.to_csv(\"/content/drive/MyDrive/Intel Challenge/Final_Test_data/Test_Title.csv\", index = False)\n",
        "df_final_test_head.to_csv(\"/content/drive/MyDrive/Intel Challenge/Final_Test_data/Test_Headline.csv\", index = False)"
      ],
      "metadata": {
        "id": "sF6hJqDW9_lB"
      },
      "execution_count": null,
      "outputs": []
    }
  ]
}