{
  "nbformat": 4,
  "nbformat_minor": 0,
  "metadata": {
    "colab": {
      "provenance": []
    },
    "kernelspec": {
      "name": "python3",
      "display_name": "Python 3"
    },
    "language_info": {
      "name": "python"
    },
    "gpuClass": "standard"
  },
  "cells": [
    {
      "cell_type": "code",
      "source": [
        "from google.colab import drive\n",
        "drive.mount('/content/drive')"
      ],
      "metadata": {
        "id": "fYQd89ALDjh3",
        "colab": {
          "base_uri": "https://localhost:8080/"
        },
        "outputId": "a5c432c6-f0a4-460d-e7fa-39368e12d797"
      },
      "execution_count": null,
      "outputs": [
        {
          "output_type": "stream",
          "name": "stdout",
          "text": [
            "Mounted at /content/drive\n"
          ]
        }
      ]
    },
    {
      "cell_type": "markdown",
      "source": [
        "**`Installing Pytorch version 1.13.1`**"
      ],
      "metadata": {
        "id": "8CPoda81S6AK"
      }
    },
    {
      "cell_type": "code",
      "source": [
        "pip install torch==1.13.1+cpu torchvision==0.14.1+cpu -fhttps://download.pytorch.org/whl/torch_stable.html"
      ],
      "metadata": {
        "colab": {
          "base_uri": "https://localhost:8080/"
        },
        "id": "gvSJ_GJ7p4sU",
        "outputId": "c199912c-54ed-4865-8a61-3304460008ce"
      },
      "execution_count": null,
      "outputs": [
        {
          "output_type": "stream",
          "name": "stdout",
          "text": [
            "Looking in indexes: https://pypi.org/simple, https://us-python.pkg.dev/colab-wheels/public/simple/\n",
            "Looking in links: https://download.pytorch.org/whl/torch_stable.html\n",
            "Collecting torch==1.13.1+cpu\n",
            "  Downloading https://download.pytorch.org/whl/cpu/torch-1.13.1%2Bcpu-cp310-cp310-linux_x86_64.whl (199.1 MB)\n",
            "\u001b[2K     \u001b[90m━━━━━━━━━━━━━━━━━━━━━━━━━━━━━━━━━━━━━━━\u001b[0m \u001b[32m199.1/199.1 MB\u001b[0m \u001b[31m5.0 MB/s\u001b[0m eta \u001b[36m0:00:00\u001b[0m\n",
            "\u001b[?25hCollecting torchvision==0.14.1+cpu\n",
            "  Downloading https://download.pytorch.org/whl/cpu/torchvision-0.14.1%2Bcpu-cp310-cp310-linux_x86_64.whl (16.8 MB)\n",
            "\u001b[2K     \u001b[90m━━━━━━━━━━━━━━━━━━━━━━━━━━━━━━━━━━━━━━━━\u001b[0m \u001b[32m16.8/16.8 MB\u001b[0m \u001b[31m48.0 MB/s\u001b[0m eta \u001b[36m0:00:00\u001b[0m\n",
            "\u001b[?25hRequirement already satisfied: typing-extensions in /usr/local/lib/python3.10/dist-packages (from torch==1.13.1+cpu) (4.5.0)\n",
            "Requirement already satisfied: numpy in /usr/local/lib/python3.10/dist-packages (from torchvision==0.14.1+cpu) (1.22.4)\n",
            "Requirement already satisfied: pillow!=8.3.*,>=5.3.0 in /usr/local/lib/python3.10/dist-packages (from torchvision==0.14.1+cpu) (8.4.0)\n",
            "Requirement already satisfied: requests in /usr/local/lib/python3.10/dist-packages (from torchvision==0.14.1+cpu) (2.27.1)\n",
            "Requirement already satisfied: urllib3<1.27,>=1.21.1 in /usr/local/lib/python3.10/dist-packages (from requests->torchvision==0.14.1+cpu) (1.26.15)\n",
            "Requirement already satisfied: certifi>=2017.4.17 in /usr/local/lib/python3.10/dist-packages (from requests->torchvision==0.14.1+cpu) (2022.12.7)\n",
            "Requirement already satisfied: idna<4,>=2.5 in /usr/local/lib/python3.10/dist-packages (from requests->torchvision==0.14.1+cpu) (3.4)\n",
            "Requirement already satisfied: charset-normalizer~=2.0.0 in /usr/local/lib/python3.10/dist-packages (from requests->torchvision==0.14.1+cpu) (2.0.12)\n",
            "Installing collected packages: torch, torchvision\n",
            "  Attempting uninstall: torch\n",
            "    Found existing installation: torch 2.0.0+cu118\n",
            "    Uninstalling torch-2.0.0+cu118:\n",
            "      Successfully uninstalled torch-2.0.0+cu118\n",
            "  Attempting uninstall: torchvision\n",
            "    Found existing installation: torchvision 0.15.1+cu118\n",
            "    Uninstalling torchvision-0.15.1+cu118:\n",
            "      Successfully uninstalled torchvision-0.15.1+cu118\n",
            "\u001b[31mERROR: pip's dependency resolver does not currently take into account all the packages that are installed. This behaviour is the source of the following dependency conflicts.\n",
            "torchtext 0.15.1 requires torch==2.0.0, but you have torch 1.13.1+cpu which is incompatible.\n",
            "torchdata 0.6.0 requires torch==2.0.0, but you have torch 1.13.1+cpu which is incompatible.\n",
            "torchaudio 2.0.1+cu118 requires torch==2.0.0, but you have torch 1.13.1+cpu which is incompatible.\u001b[0m\u001b[31m\n",
            "\u001b[0mSuccessfully installed torch-1.13.1+cpu torchvision-0.14.1+cpu\n"
          ]
        }
      ]
    },
    {
      "cell_type": "markdown",
      "source": [
        "**Integrating oneDNN Intel Extension for Pytorch for model training**"
      ],
      "metadata": {
        "id": "lMSCI6zhKW1u"
      }
    },
    {
      "cell_type": "code",
      "source": [
        "pip install intel_extension_for_pytorch==1.13.100 -fhttps://developer.intel.com/ipex-whl-stable-cpu"
      ],
      "metadata": {
        "colab": {
          "base_uri": "https://localhost:8080/"
        },
        "id": "fKnYHhSPrb6T",
        "outputId": "7a6aca55-88ce-4c11-f03f-2e1dfa23f919"
      },
      "execution_count": null,
      "outputs": [
        {
          "output_type": "stream",
          "name": "stdout",
          "text": [
            "Looking in indexes: https://pypi.org/simple, https://us-python.pkg.dev/colab-wheels/public/simple/\n",
            "Looking in links: https://developer.intel.com/ipex-whl-stable-cpu\n",
            "Collecting intel_extension_for_pytorch==1.13.100\n",
            "  Downloading https://intel-optimized-pytorch.s3.cn-north-1.amazonaws.com.cn/ipex_stable/cpu/intel_extension_for_pytorch-1.13.100%2Bcpu-cp310-cp310-linux_x86_64.whl (38.0 MB)\n",
            "\u001b[2K     \u001b[90m━━━━━━━━━━━━━━━━━━━━━━━━━━━━━━━━━━━━━━━\u001b[0m \u001b[32m38.0/38.0 MB\u001b[0m \u001b[31m219.6 kB/s\u001b[0m eta \u001b[36m0:00:00\u001b[0m\n",
            "\u001b[?25hRequirement already satisfied: numpy in /usr/local/lib/python3.10/dist-packages (from intel_extension_for_pytorch==1.13.100) (1.22.4)\n",
            "Requirement already satisfied: psutil in /usr/local/lib/python3.10/dist-packages (from intel_extension_for_pytorch==1.13.100) (5.9.5)\n",
            "Installing collected packages: intel_extension_for_pytorch\n",
            "Successfully installed intel_extension_for_pytorch-1.13.100+cpu\n"
          ]
        }
      ]
    },
    {
      "cell_type": "code",
      "source": [
        "import torch"
      ],
      "metadata": {
        "id": "lY1UKxGG2V5C"
      },
      "execution_count": null,
      "outputs": []
    },
    {
      "cell_type": "code",
      "source": [
        "device=torch.device(\"cuda:0\" if torch.cuda.is_available() else \"cpu\")"
      ],
      "metadata": {
        "id": "A7DwseUh18jo"
      },
      "execution_count": null,
      "outputs": []
    },
    {
      "cell_type": "markdown",
      "source": [
        "**Naming the intel extension for pytorch as ipex**"
      ],
      "metadata": {
        "id": "L-aj62qlKjIm"
      }
    },
    {
      "cell_type": "code",
      "source": [
        "import intel_extension_for_pytorch as ipex"
      ],
      "metadata": {
        "colab": {
          "base_uri": "https://localhost:8080/"
        },
        "id": "0mFOcsYKsQOI",
        "outputId": "9d073589-8d2f-402f-8e19-c7845afef5be"
      },
      "execution_count": null,
      "outputs": [
        {
          "output_type": "stream",
          "name": "stderr",
          "text": [
            "No CUDA runtime is found, using CUDA_HOME='/usr/local/cuda'\n"
          ]
        }
      ]
    },
    {
      "cell_type": "code",
      "source": [
        "!pip install modin[all]"
      ],
      "metadata": {
        "id": "XUnAA3x6KwPn"
      },
      "execution_count": null,
      "outputs": []
    },
    {
      "cell_type": "code",
      "source": [
        "import modin.pandas as pd\n",
        "import numpy as np"
      ],
      "metadata": {
        "id": "dBZCxQNBByOj"
      },
      "execution_count": null,
      "outputs": []
    },
    {
      "cell_type": "markdown",
      "source": [
        "**Implementing intel developed scikit learn package for faster mathematical operations**"
      ],
      "metadata": {
        "id": "L-uTvECxK2E_"
      }
    },
    {
      "cell_type": "code",
      "source": [
        "!pip install scikit-learn-intelex"
      ],
      "metadata": {
        "colab": {
          "base_uri": "https://localhost:8080/"
        },
        "id": "X9I4aZGWFjsh",
        "outputId": "d9beb55e-6edb-4388-d572-1c24a19dcb86"
      },
      "execution_count": null,
      "outputs": [
        {
          "output_type": "stream",
          "name": "stdout",
          "text": [
            "Looking in indexes: https://pypi.org/simple, https://us-python.pkg.dev/colab-wheels/public/simple/\n",
            "Collecting scikit-learn-intelex\n",
            "  Downloading scikit_learn_intelex-2023.1.1-py310-none-manylinux1_x86_64.whl (115 kB)\n",
            "\u001b[2K     \u001b[90m━━━━━━━━━━━━━━━━━━━━━━━━━━━━━━━━━━━━━━━\u001b[0m \u001b[32m115.3/115.3 kB\u001b[0m \u001b[31m4.0 MB/s\u001b[0m eta \u001b[36m0:00:00\u001b[0m\n",
            "\u001b[?25hCollecting daal4py==2023.1.1\n",
            "  Downloading daal4py-2023.1.1-py310-none-manylinux1_x86_64.whl (13.9 MB)\n",
            "\u001b[2K     \u001b[90m━━━━━━━━━━━━━━━━━━━━━━━━━━━━━━━━━━━━━━━━\u001b[0m \u001b[32m13.9/13.9 MB\u001b[0m \u001b[31m69.0 MB/s\u001b[0m eta \u001b[36m0:00:00\u001b[0m\n",
            "\u001b[?25hRequirement already satisfied: scikit-learn>=0.22 in /usr/local/lib/python3.10/dist-packages (from scikit-learn-intelex) (1.2.2)\n",
            "Requirement already satisfied: numpy>=1.19 in /usr/local/lib/python3.10/dist-packages (from daal4py==2023.1.1->scikit-learn-intelex) (1.22.4)\n",
            "Collecting daal==2023.1.1\n",
            "  Downloading daal-2023.1.1-py2.py3-none-manylinux1_x86_64.whl (69.2 MB)\n",
            "\u001b[2K     \u001b[90m━━━━━━━━━━━━━━━━━━━━━━━━━━━━━━━━━━━━━━━━\u001b[0m \u001b[32m69.2/69.2 MB\u001b[0m \u001b[31m13.0 MB/s\u001b[0m eta \u001b[36m0:00:00\u001b[0m\n",
            "\u001b[?25hCollecting tbb==2021.*\n",
            "  Downloading tbb-2021.9.0-py2.py3-none-manylinux1_x86_64.whl (4.0 MB)\n",
            "\u001b[2K     \u001b[90m━━━━━━━━━━━━━━━━━━━━━━━━━━━━━━━━━━━━━━━━\u001b[0m \u001b[32m4.0/4.0 MB\u001b[0m \u001b[31m88.9 MB/s\u001b[0m eta \u001b[36m0:00:00\u001b[0m\n",
            "\u001b[?25hRequirement already satisfied: joblib>=1.1.1 in /usr/local/lib/python3.10/dist-packages (from scikit-learn>=0.22->scikit-learn-intelex) (1.2.0)\n",
            "Requirement already satisfied: scipy>=1.3.2 in /usr/local/lib/python3.10/dist-packages (from scikit-learn>=0.22->scikit-learn-intelex) (1.10.1)\n",
            "Requirement already satisfied: threadpoolctl>=2.0.0 in /usr/local/lib/python3.10/dist-packages (from scikit-learn>=0.22->scikit-learn-intelex) (3.1.0)\n",
            "Installing collected packages: tbb, daal, daal4py, scikit-learn-intelex\n",
            "Successfully installed daal-2023.1.1 daal4py-2023.1.1 scikit-learn-intelex-2023.1.1 tbb-2021.9.0\n"
          ]
        }
      ]
    },
    {
      "cell_type": "code",
      "source": [
        "df_title = pd.read_csv(\"/content/drive/MyDrive/Intel Challenge/Training/Title_Training.csv\")\n",
        "df_headline = pd.read_csv(\"/content/drive/MyDrive/Intel Challenge/Training/Headline_Training.csv\")"
      ],
      "metadata": {
        "id": "95ZQyTBsBjj-"
      },
      "execution_count": 121,
      "outputs": []
    },
    {
      "cell_type": "code",
      "source": [
        "df_title.head(20)"
      ],
      "metadata": {
        "id": "xYC-0xAtBxDo",
        "colab": {
          "base_uri": "https://localhost:8080/",
          "height": 677
        },
        "outputId": "9bae0346-e2b4-4eb7-addb-aea62e15eddf"
      },
      "execution_count": 122,
      "outputs": [
        {
          "output_type": "execute_result",
          "data": {
            "text/plain": [
              "                                                Title  Title_Sentiment\n",
              "0   [-0.01304482 -0.01304482 -0.01304482 -0.013044...         0.000000\n",
              "1   [-0.00492837 -0.00492837 -0.00492837 -0.004928...         0.208333\n",
              "2   [-0.00330783 -0.00330783 -0.00330783  0.      ...        -0.425210\n",
              "3   [-0.00541078 -0.00541078 -0.00541078 -0.005410...         0.000000\n",
              "4   [-0.00563991 -0.00563991 -0.00563991 -0.005639...         0.000000\n",
              "5   [-0.01190366 -0.01190366 -0.01190366 -0.011903...        -0.075378\n",
              "6   [-0.0033876 -0.0033876  0.         0.         ...         0.000000\n",
              "7   [-0.00188747 -0.00188747 -0.00188747 -0.001887...         0.083333\n",
              "8   [-0.00306054 -0.00306054 -0.00306054 -0.003060...        -0.173925\n",
              "9   [-0.01083905 -0.01083905 -0.01083905 -0.010839...        -0.059536\n",
              "10  [-0.01015102 -0.01015102 -0.01015102 -0.010151...         0.000000\n",
              "11  [-0.00849215 -0.00849215 -0.00849215 -0.008492...         0.000000\n",
              "12  [-0.00260982 -0.00260982 -0.00260982 -0.002609...         0.000000\n",
              "13  [-0.00159936 -0.00159936 -0.00159936 -0.001599...         0.063205\n",
              "14  [-0.00675861 -0.00675861 -0.00675861 -0.006758...         0.000000\n",
              "15  [-0.0048176 -0.0048176 -0.0048176 -0.0048176 -...        -0.023883\n",
              "16  [-0.00721909 -0.00721909 -0.00721909 -0.007219...        -0.070868\n",
              "17  [-0.01407687 -0.01407687 -0.01407687 -0.014076...         0.000000\n",
              "18  [-0.00220717 -0.00220717 -0.00220717 -0.002207...        -0.085645\n",
              "19  [-0.00109288 -0.00109288 -0.00109288 -0.001092...         0.000000"
            ],
            "text/html": [
              "\n",
              "  <div id=\"df-707a3739-92a7-4f6d-a049-00b44df37e7f\">\n",
              "    <div class=\"colab-df-container\">\n",
              "      <div>\n",
              "<style scoped>\n",
              "    .dataframe tbody tr th:only-of-type {\n",
              "        vertical-align: middle;\n",
              "    }\n",
              "\n",
              "    .dataframe tbody tr th {\n",
              "        vertical-align: top;\n",
              "    }\n",
              "\n",
              "    .dataframe thead th {\n",
              "        text-align: right;\n",
              "    }\n",
              "</style>\n",
              "<table border=\"1\" class=\"dataframe\">\n",
              "  <thead>\n",
              "    <tr style=\"text-align: right;\">\n",
              "      <th></th>\n",
              "      <th>Title</th>\n",
              "      <th>Title_Sentiment</th>\n",
              "    </tr>\n",
              "  </thead>\n",
              "  <tbody>\n",
              "    <tr>\n",
              "      <th>0</th>\n",
              "      <td>[-0.01304482 -0.01304482 -0.01304482 -0.013044...</td>\n",
              "      <td>0.000000</td>\n",
              "    </tr>\n",
              "    <tr>\n",
              "      <th>1</th>\n",
              "      <td>[-0.00492837 -0.00492837 -0.00492837 -0.004928...</td>\n",
              "      <td>0.208333</td>\n",
              "    </tr>\n",
              "    <tr>\n",
              "      <th>2</th>\n",
              "      <td>[-0.00330783 -0.00330783 -0.00330783  0.      ...</td>\n",
              "      <td>-0.425210</td>\n",
              "    </tr>\n",
              "    <tr>\n",
              "      <th>3</th>\n",
              "      <td>[-0.00541078 -0.00541078 -0.00541078 -0.005410...</td>\n",
              "      <td>0.000000</td>\n",
              "    </tr>\n",
              "    <tr>\n",
              "      <th>4</th>\n",
              "      <td>[-0.00563991 -0.00563991 -0.00563991 -0.005639...</td>\n",
              "      <td>0.000000</td>\n",
              "    </tr>\n",
              "    <tr>\n",
              "      <th>5</th>\n",
              "      <td>[-0.01190366 -0.01190366 -0.01190366 -0.011903...</td>\n",
              "      <td>-0.075378</td>\n",
              "    </tr>\n",
              "    <tr>\n",
              "      <th>6</th>\n",
              "      <td>[-0.0033876 -0.0033876  0.         0.         ...</td>\n",
              "      <td>0.000000</td>\n",
              "    </tr>\n",
              "    <tr>\n",
              "      <th>7</th>\n",
              "      <td>[-0.00188747 -0.00188747 -0.00188747 -0.001887...</td>\n",
              "      <td>0.083333</td>\n",
              "    </tr>\n",
              "    <tr>\n",
              "      <th>8</th>\n",
              "      <td>[-0.00306054 -0.00306054 -0.00306054 -0.003060...</td>\n",
              "      <td>-0.173925</td>\n",
              "    </tr>\n",
              "    <tr>\n",
              "      <th>9</th>\n",
              "      <td>[-0.01083905 -0.01083905 -0.01083905 -0.010839...</td>\n",
              "      <td>-0.059536</td>\n",
              "    </tr>\n",
              "    <tr>\n",
              "      <th>10</th>\n",
              "      <td>[-0.01015102 -0.01015102 -0.01015102 -0.010151...</td>\n",
              "      <td>0.000000</td>\n",
              "    </tr>\n",
              "    <tr>\n",
              "      <th>11</th>\n",
              "      <td>[-0.00849215 -0.00849215 -0.00849215 -0.008492...</td>\n",
              "      <td>0.000000</td>\n",
              "    </tr>\n",
              "    <tr>\n",
              "      <th>12</th>\n",
              "      <td>[-0.00260982 -0.00260982 -0.00260982 -0.002609...</td>\n",
              "      <td>0.000000</td>\n",
              "    </tr>\n",
              "    <tr>\n",
              "      <th>13</th>\n",
              "      <td>[-0.00159936 -0.00159936 -0.00159936 -0.001599...</td>\n",
              "      <td>0.063205</td>\n",
              "    </tr>\n",
              "    <tr>\n",
              "      <th>14</th>\n",
              "      <td>[-0.00675861 -0.00675861 -0.00675861 -0.006758...</td>\n",
              "      <td>0.000000</td>\n",
              "    </tr>\n",
              "    <tr>\n",
              "      <th>15</th>\n",
              "      <td>[-0.0048176 -0.0048176 -0.0048176 -0.0048176 -...</td>\n",
              "      <td>-0.023883</td>\n",
              "    </tr>\n",
              "    <tr>\n",
              "      <th>16</th>\n",
              "      <td>[-0.00721909 -0.00721909 -0.00721909 -0.007219...</td>\n",
              "      <td>-0.070868</td>\n",
              "    </tr>\n",
              "    <tr>\n",
              "      <th>17</th>\n",
              "      <td>[-0.01407687 -0.01407687 -0.01407687 -0.014076...</td>\n",
              "      <td>0.000000</td>\n",
              "    </tr>\n",
              "    <tr>\n",
              "      <th>18</th>\n",
              "      <td>[-0.00220717 -0.00220717 -0.00220717 -0.002207...</td>\n",
              "      <td>-0.085645</td>\n",
              "    </tr>\n",
              "    <tr>\n",
              "      <th>19</th>\n",
              "      <td>[-0.00109288 -0.00109288 -0.00109288 -0.001092...</td>\n",
              "      <td>0.000000</td>\n",
              "    </tr>\n",
              "  </tbody>\n",
              "</table>\n",
              "</div>\n",
              "      <button class=\"colab-df-convert\" onclick=\"convertToInteractive('df-707a3739-92a7-4f6d-a049-00b44df37e7f')\"\n",
              "              title=\"Convert this dataframe to an interactive table.\"\n",
              "              style=\"display:none;\">\n",
              "        \n",
              "  <svg xmlns=\"http://www.w3.org/2000/svg\" height=\"24px\"viewBox=\"0 0 24 24\"\n",
              "       width=\"24px\">\n",
              "    <path d=\"M0 0h24v24H0V0z\" fill=\"none\"/>\n",
              "    <path d=\"M18.56 5.44l.94 2.06.94-2.06 2.06-.94-2.06-.94-.94-2.06-.94 2.06-2.06.94zm-11 1L8.5 8.5l.94-2.06 2.06-.94-2.06-.94L8.5 2.5l-.94 2.06-2.06.94zm10 10l.94 2.06.94-2.06 2.06-.94-2.06-.94-.94-2.06-.94 2.06-2.06.94z\"/><path d=\"M17.41 7.96l-1.37-1.37c-.4-.4-.92-.59-1.43-.59-.52 0-1.04.2-1.43.59L10.3 9.45l-7.72 7.72c-.78.78-.78 2.05 0 2.83L4 21.41c.39.39.9.59 1.41.59.51 0 1.02-.2 1.41-.59l7.78-7.78 2.81-2.81c.8-.78.8-2.07 0-2.86zM5.41 20L4 18.59l7.72-7.72 1.47 1.35L5.41 20z\"/>\n",
              "  </svg>\n",
              "      </button>\n",
              "      \n",
              "  <style>\n",
              "    .colab-df-container {\n",
              "      display:flex;\n",
              "      flex-wrap:wrap;\n",
              "      gap: 12px;\n",
              "    }\n",
              "\n",
              "    .colab-df-convert {\n",
              "      background-color: #E8F0FE;\n",
              "      border: none;\n",
              "      border-radius: 50%;\n",
              "      cursor: pointer;\n",
              "      display: none;\n",
              "      fill: #1967D2;\n",
              "      height: 32px;\n",
              "      padding: 0 0 0 0;\n",
              "      width: 32px;\n",
              "    }\n",
              "\n",
              "    .colab-df-convert:hover {\n",
              "      background-color: #E2EBFA;\n",
              "      box-shadow: 0px 1px 2px rgba(60, 64, 67, 0.3), 0px 1px 3px 1px rgba(60, 64, 67, 0.15);\n",
              "      fill: #174EA6;\n",
              "    }\n",
              "\n",
              "    [theme=dark] .colab-df-convert {\n",
              "      background-color: #3B4455;\n",
              "      fill: #D2E3FC;\n",
              "    }\n",
              "\n",
              "    [theme=dark] .colab-df-convert:hover {\n",
              "      background-color: #434B5C;\n",
              "      box-shadow: 0px 1px 3px 1px rgba(0, 0, 0, 0.15);\n",
              "      filter: drop-shadow(0px 1px 2px rgba(0, 0, 0, 0.3));\n",
              "      fill: #FFFFFF;\n",
              "    }\n",
              "  </style>\n",
              "\n",
              "      <script>\n",
              "        const buttonEl =\n",
              "          document.querySelector('#df-707a3739-92a7-4f6d-a049-00b44df37e7f button.colab-df-convert');\n",
              "        buttonEl.style.display =\n",
              "          google.colab.kernel.accessAllowed ? 'block' : 'none';\n",
              "\n",
              "        async function convertToInteractive(key) {\n",
              "          const element = document.querySelector('#df-707a3739-92a7-4f6d-a049-00b44df37e7f');\n",
              "          const dataTable =\n",
              "            await google.colab.kernel.invokeFunction('convertToInteractive',\n",
              "                                                     [key], {});\n",
              "          if (!dataTable) return;\n",
              "\n",
              "          const docLinkHtml = 'Like what you see? Visit the ' +\n",
              "            '<a target=\"_blank\" href=https://colab.research.google.com/notebooks/data_table.ipynb>data table notebook</a>'\n",
              "            + ' to learn more about interactive tables.';\n",
              "          element.innerHTML = '';\n",
              "          dataTable['output_type'] = 'display_data';\n",
              "          await google.colab.output.renderOutput(dataTable, element);\n",
              "          const docLink = document.createElement('div');\n",
              "          docLink.innerHTML = docLinkHtml;\n",
              "          element.appendChild(docLink);\n",
              "        }\n",
              "      </script>\n",
              "    </div>\n",
              "  </div>\n",
              "  "
            ]
          },
          "metadata": {},
          "execution_count": 122
        }
      ]
    },
    {
      "cell_type": "code",
      "source": [
        "def converting(input_list):\n",
        "  arr=np.array(input_list)\n",
        "  lst = arr.tolist()\n",
        "  out = [float(x) for x in lst.strip('[]').split()]\n",
        "  return out"
      ],
      "metadata": {
        "id": "1ayo4MFyEUtt"
      },
      "execution_count": 86,
      "outputs": []
    },
    {
      "cell_type": "code",
      "source": [
        "Title=list(df_title['Title'])\n",
        "Title_Final=[]\n",
        "i=0\n",
        "for i in range(len(Title)):\n",
        "  t=Title[i]\n",
        "  Title_Final.append(converting(t))\n",
        "  i=i+1\n",
        "title_list = np.array(Title_Final)\n",
        "titlesentiment_list = list(df_title['Title_Sentiment'])"
      ],
      "metadata": {
        "id": "8iuqD7j7EUwq"
      },
      "execution_count": 123,
      "outputs": []
    },
    {
      "cell_type": "code",
      "source": [
        "Headline=list(df_headline['Headline'])\n",
        "Headline_Final=[]\n",
        "i=0\n",
        "for i in range(len(Headline)):\n",
        "  t=Headline[i]\n",
        "  Headline_Final.append(converting(t))\n",
        "  i=i+1\n",
        "headline_list = np.array(Headline_Final)\n",
        "headlinesentiment_list = list(df_title['Headline_Sentiment'])"
      ],
      "metadata": {
        "id": "UBf-BSARMqPj"
      },
      "execution_count": null,
      "outputs": []
    },
    {
      "cell_type": "code",
      "source": [
        "from sklearnex.model_selection import train_test_split"
      ],
      "metadata": {
        "id": "PNYL7Y0sFpJ1"
      },
      "execution_count": 130,
      "outputs": []
    },
    {
      "cell_type": "code",
      "source": [
        "y_title= np.array(titlesentiment_list)\n",
        "y_headline=np.array(headlinesentiment_list)"
      ],
      "metadata": {
        "id": "vgQliU7cGnjt"
      },
      "execution_count": 133,
      "outputs": []
    },
    {
      "cell_type": "code",
      "source": [
        "X_train_title, X_val_title, y_train_title, y_val_title = train_test_split(title_list, y_title, test_size=0.3, random_state=42)\n",
        "X_train_headline, X_val_headline, y_train_headline, y_val_headline = train_test_split(headline_list, y_headline, test_size=0.3, random_state=42)"
      ],
      "metadata": {
        "id": "NS93L4pyFpM4"
      },
      "execution_count": 134,
      "outputs": []
    },
    {
      "cell_type": "markdown",
      "source": [
        "**`Defining create_dataloaders method for pytorch model training`**"
      ],
      "metadata": {
        "id": "6IXBBRNJLbwr"
      }
    },
    {
      "cell_type": "code",
      "source": [
        "import torch\n",
        "from torch.utils.data import TensorDataset, DataLoader\n",
        "\n",
        "batch_size = 32\n",
        "def create_dataloaders(masks, labels, batch_size):\n",
        "    #input_tensor = torch.tensor(inputs)\n",
        "    mask_tensor = torch.tensor(masks)\n",
        "    labels_tensor = torch.tensor(labels)\n",
        "    dataset = TensorDataset( mask_tensor, \n",
        "                            labels_tensor)\n",
        "    dataloader = DataLoader(dataset, batch_size=batch_size, \n",
        "                            shuffle=True)\n",
        "    return dataloader"
      ],
      "metadata": {
        "id": "sv3HG_BnFpfc"
      },
      "execution_count": 135,
      "outputs": []
    },
    {
      "cell_type": "code",
      "source": [
        "train_dataloader_title = create_dataloaders(X_train_title, y_train_title, batch_size)\n",
        "val_dataloader_title = create_dataloaders(X_val_title, y_val_title, batch_size)"
      ],
      "metadata": {
        "id": "K3M6IR3YV1As"
      },
      "execution_count": 136,
      "outputs": []
    },
    {
      "cell_type": "code",
      "source": [
        "train_dataloader_headline = create_dataloaders(X_train_headline, y_train_headline, batch_size)\n",
        "val_dataloader_headline = create_dataloaders(X_val_headline, y_val_headline, batch_size)"
      ],
      "metadata": {
        "id": "ccsByu1QOSWx"
      },
      "execution_count": null,
      "outputs": []
    },
    {
      "cell_type": "markdown",
      "source": [
        "**Defining Artificial Neural Network Models for title and headline dataset using oneDNN**"
      ],
      "metadata": {
        "id": "5TGGqPthRMSZ"
      }
    },
    {
      "cell_type": "code",
      "source": [
        "# Defining the model\n",
        "\n",
        "import torch.nn as nn\n",
        "class ANN_1_title(nn.Module):\n",
        "    \n",
        "    def __init__(self): \n",
        "        super(ANN_1_title, self).__init__()\n",
        "        self.classifier = nn.Sequential(\n",
        "            nn.Linear(18,5),\n",
        "            nn.ReLU(),\n",
        "            nn.Linear(5,1)\n",
        "        )\n",
        "        \n",
        "    def forward(self,features):\n",
        "        features = features.to(self.classifier[0].weight.dtype)\n",
        "        outputs = self.classifier(features)\n",
        "        return outputs\n",
        "\n",
        "model_title = ANN_1_title()"
      ],
      "metadata": {
        "id": "nzCodMlYHkHj"
      },
      "execution_count": 137,
      "outputs": []
    },
    {
      "cell_type": "code",
      "source": [
        "class ANN_2_headline(nn.Module):\n",
        "    \n",
        "    def __init__(self): \n",
        "        super(ANN_2_headline, self).__init__()\n",
        "        self.classifier = nn.Sequential(\n",
        "            nn.Linear(48,10),\n",
        "            nn.ReLU(),\n",
        "            nn.Linear(10,7),\n",
        "            nn.Dropout(0.2),\n",
        "            nn.Linear(7,1))\n",
        "        )\n",
        "        \n",
        "    def forward(self,features):\n",
        "        features = features.to(self.classifier[0].weight.dtype)\n",
        "        outputs = self.classifier(features)\n",
        "        return outputs\n",
        "\n",
        "model_headline = ANN_2_headline()"
      ],
      "metadata": {
        "id": "UsBn2dm7PVKM"
      },
      "execution_count": null,
      "outputs": []
    },
    {
      "cell_type": "code",
      "source": [
        "model_title.to(device)"
      ],
      "metadata": {
        "colab": {
          "base_uri": "https://localhost:8080/"
        },
        "id": "soXTtOYmLeog",
        "outputId": "6a561de1-61a6-4f25-ed4b-92346cb7918b"
      },
      "execution_count": 138,
      "outputs": [
        {
          "output_type": "execute_result",
          "data": {
            "text/plain": [
              "ANN_1(\n",
              "  (classifier): Sequential(\n",
              "    (0): Linear(in_features=18, out_features=5, bias=True)\n",
              "    (1): ReLU()\n",
              "    (2): Linear(in_features=5, out_features=1, bias=True)\n",
              "  )\n",
              ")"
            ]
          },
          "metadata": {},
          "execution_count": 138
        }
      ]
    },
    {
      "cell_type": "code",
      "source": [
        "model_headline.to(device)"
      ],
      "metadata": {
        "id": "PiW-kT0CQrbj"
      },
      "execution_count": null,
      "outputs": []
    },
    {
      "cell_type": "code",
      "source": [
        "import torch.optim as optim\n",
        "from torch.optim import lr_scheduler"
      ],
      "metadata": {
        "id": "gjFiosn9Q1iN"
      },
      "execution_count": null,
      "outputs": []
    },
    {
      "cell_type": "code",
      "source": [
        "loss=nn.MSELoss()\n",
        "model.state_dict()\n",
        "optimizer = optim.SGD(model.parameters(), lr=0.001)\n",
        "step_lr_scheduler = lr_scheduler.StepLR(optimizer, step_size = 10, gamma=0.1)"
      ],
      "metadata": {
        "id": "V3Kxgi3vKz29"
      },
      "execution_count": null,
      "outputs": []
    },
    {
      "cell_type": "markdown",
      "source": [
        "**Training the model and storing the final SVM trained weights**"
      ],
      "metadata": {
        "id": "VBu2jrVsRYPC"
      }
    },
    {
      "cell_type": "code",
      "source": [
        "#Training \n",
        "\n",
        "from torch.nn.utils.clip_grad import clip_grad_norm\n",
        "\n",
        "def train(model,optimizer, scheduler, loss_function,epochs,train_dataloader,val_dataloader,device1, clip_value=2,path):\n",
        "    best_loss = 1e-3\n",
        "    for epoch in range(epochs):\n",
        "        print('Epoch {}/{}'.format(epoch+1, epochs))\n",
        "        print('-'*10)\n",
        "        #best_loss = 1e-7\n",
        "        model.train()\n",
        "        with torch.set_grad_enabled(True):\n",
        "          for batch in train_dataloader: \n",
        "            #print(step)  \n",
        "            #batch_masks=batch_masks.to(device1)\n",
        "            #batch_labels=batch_labels.to(device1)\n",
        "            batch_masks, batch_labels = \\\n",
        "                               tuple(b.to(device) for b in batch)\n",
        "            \n",
        "            outputs = model(batch_masks) \n",
        "            # outputs_avg = torch.mean(outputs, dim=1)\n",
        "            # outputs_avg = outputs_avg.float() \n",
        "            #print(outputs_avg.shape)         \n",
        "            loss = loss_function(outputs.squeeze(), \n",
        "                             batch_labels.float().squeeze())\n",
        "            optimizer.zero_grad()\n",
        "            loss.backward()\n",
        "            clip_grad_norm(model.parameters(), clip_value)\n",
        "            optimizer.step()\n",
        "            scheduler.step()\n",
        "\n",
        "        model.eval()\n",
        "        val_total = 0\n",
        "        val_correct=0\n",
        "        \n",
        "        with torch.set_grad_enabled(False):\n",
        "          for batch in val_dataloader: \n",
        "            #batch_masks=batch_masks.to(device1)\n",
        "            #batch_labels=batch_labels.to(device1)\n",
        "            #print(step)  \n",
        "            batch_masks, batch_labels = \\\n",
        "                               tuple(b.to(device) for b in batch)\n",
        "            outputs = model(features=batch_masks)\n",
        "            #print(outputs.shape)\n",
        "            # outputs_avg = torch.mean(outputs, dim=1)\n",
        "            # outputs_avg = outputs_avg.float()           \n",
        "            val_loss = loss_function(outputs.squeeze(), \n",
        "                             batch_labels.float().squeeze()).sum().item()\n",
        "            #clip_grad_norm(model.parameters(), clip_value)\n",
        "            #_, predicted = torch.max(outputs.data, 1)\n",
        "            #val_total += batch_labels.size(0)\n",
        "            val_correct = (outputs.squeeze() == batch_labels.float()).sum().item()\n",
        "    \n",
        "        val_epoch_loss=val_loss/len(val_dataloader)\n",
        "        #val_epoch_acc=val_correct/len(val_dataloader)\n",
        "        #val_epoch_accuracy = 100 * val_correct / len(val_dataloader)\n",
        "        print(\"Val Loss : {:4f}\".format(val_epoch_loss))\n",
        "        \n",
        "        if val_epoch_loss<best_loss:\n",
        "          best_loss=val_epoch_loss\n",
        "          print(\"Model Saved\")\n",
        "          torch.save(model.state_dict(),path)\n",
        "        print()\n",
        "\n",
        "                \n",
        "    #return model"
      ],
      "metadata": {
        "id": "sMsn1mM0S0V7"
      },
      "execution_count": null,
      "outputs": []
    },
    {
      "cell_type": "code",
      "source": [
        "head_path=\"/content/drive/MyDrive/Intel Challenge/Trained_Models/Best_ANN_headline.pth\"\n",
        "title_path=\"/content/drive/MyDrive/Intel Challenge/Trained_Models/Best_ANN_title.pth\"\n",
        "\n",
        "train(model_headline,optimizer, step_lr_scheduler, loss, 100,train_dataloader, val_dataloader,device, clip_value=2,path=head_path)\n",
        "train(model_title,optimizer, step_lr_scheduler, loss, 100,train_dataloader, val_dataloader,device, clip_value=2,path=title_path)"
      ],
      "metadata": {
        "colab": {
          "base_uri": "https://localhost:8080/"
        },
        "id": "aiEd_YmdGo0m",
        "outputId": "8198b14c-b69b-4ca3-8215-50bf7fe72beb"
      },
      "execution_count": 144,
      "outputs": [
        {
          "output_type": "stream",
          "name": "stdout",
          "text": [
            "Epoch 1/50\n",
            "----------\n"
          ]
        },
        {
          "output_type": "stream",
          "name": "stderr",
          "text": [
            "<ipython-input-142-eb823fa7e305>:28: UserWarning: torch.nn.utils.clip_grad_norm is now deprecated in favor of torch.nn.utils.clip_grad_norm_.\n",
            "  clip_grad_norm(model.parameters(), clip_value)\n"
          ]
        },
        {
          "output_type": "stream",
          "name": "stdout",
          "text": [
            "Val Loss : 0.000180\n",
            "Model Saved\n",
            "\n",
            "Epoch 2/50\n",
            "----------\n",
            "Val Loss : 0.000172\n",
            "Model Saved\n",
            "\n",
            "Epoch 3/50\n",
            "----------\n",
            "Val Loss : 0.000145\n",
            "Model Saved\n",
            "\n",
            "Epoch 4/50\n",
            "----------\n",
            "Val Loss : 0.000139\n",
            "Model Saved\n",
            "\n",
            "Epoch 5/50\n",
            "----------\n",
            "Val Loss : 0.000127\n",
            "Model Saved\n",
            "\n",
            "Epoch 6/50\n",
            "----------\n",
            "Val Loss : 0.000171\n",
            "\n",
            "Epoch 7/50\n",
            "----------\n",
            "Val Loss : 0.000182\n",
            "\n",
            "Epoch 8/50\n",
            "----------\n",
            "Val Loss : 0.000116\n",
            "Model Saved\n",
            "\n",
            "Epoch 9/50\n",
            "----------\n",
            "Val Loss : 0.000100\n",
            "Model Saved\n",
            "\n",
            "Epoch 10/50\n",
            "----------\n",
            "Val Loss : 0.000166\n",
            "\n",
            "Epoch 11/50\n",
            "----------\n",
            "Val Loss : 0.000085\n",
            "Model Saved\n",
            "\n",
            "Epoch 12/50\n",
            "----------\n",
            "Val Loss : 0.000135\n",
            "\n",
            "Epoch 13/50\n",
            "----------\n",
            "Val Loss : 0.000142\n",
            "\n",
            "Epoch 14/50\n",
            "----------\n",
            "Val Loss : 0.000125\n",
            "\n",
            "Epoch 15/50\n",
            "----------\n",
            "Val Loss : 0.000127\n",
            "\n",
            "Epoch 16/50\n",
            "----------\n",
            "Val Loss : 0.000199\n",
            "\n",
            "Epoch 17/50\n",
            "----------\n",
            "Val Loss : 0.000209\n",
            "\n",
            "Epoch 18/50\n",
            "----------\n",
            "Val Loss : 0.000227\n",
            "\n",
            "Epoch 19/50\n",
            "----------\n",
            "Val Loss : 0.000148\n",
            "\n",
            "Epoch 20/50\n",
            "----------\n",
            "Val Loss : 0.000161\n",
            "\n",
            "Epoch 21/50\n",
            "----------\n",
            "Val Loss : 0.000088\n",
            "\n",
            "Epoch 22/50\n",
            "----------\n",
            "Val Loss : 0.000121\n",
            "\n",
            "Epoch 23/50\n",
            "----------\n",
            "Val Loss : 0.000171\n",
            "\n",
            "Epoch 24/50\n",
            "----------\n",
            "Val Loss : 0.000136\n",
            "\n",
            "Epoch 25/50\n",
            "----------\n",
            "Val Loss : 0.000183\n",
            "\n",
            "Epoch 26/50\n",
            "----------\n",
            "Val Loss : 0.000115\n",
            "\n",
            "Epoch 27/50\n",
            "----------\n",
            "Val Loss : 0.000270\n",
            "\n",
            "Epoch 28/50\n",
            "----------\n",
            "Val Loss : 0.000168\n",
            "\n",
            "Epoch 29/50\n",
            "----------\n",
            "Val Loss : 0.000182\n",
            "\n",
            "Epoch 30/50\n",
            "----------\n",
            "Val Loss : 0.000159\n",
            "\n",
            "Epoch 31/50\n",
            "----------\n",
            "Val Loss : 0.000140\n",
            "\n",
            "Epoch 32/50\n",
            "----------\n",
            "Val Loss : 0.000134\n",
            "\n",
            "Epoch 33/50\n",
            "----------\n",
            "Val Loss : 0.000126\n",
            "\n",
            "Epoch 34/50\n",
            "----------\n",
            "Val Loss : 0.000137\n",
            "\n",
            "Epoch 35/50\n",
            "----------\n",
            "Val Loss : 0.000145\n",
            "\n",
            "Epoch 36/50\n",
            "----------\n",
            "Val Loss : 0.000182\n",
            "\n",
            "Epoch 37/50\n",
            "----------\n",
            "Val Loss : 0.000168\n",
            "\n",
            "Epoch 38/50\n",
            "----------\n",
            "Val Loss : 0.000146\n",
            "\n",
            "Epoch 39/50\n",
            "----------\n",
            "Val Loss : 0.000111\n",
            "\n",
            "Epoch 40/50\n",
            "----------\n",
            "Val Loss : 0.000128\n",
            "\n",
            "Epoch 41/50\n",
            "----------\n",
            "Val Loss : 0.000142\n",
            "\n",
            "Epoch 42/50\n",
            "----------\n",
            "Val Loss : 0.000215\n",
            "\n",
            "Epoch 43/50\n",
            "----------\n",
            "Val Loss : 0.000243\n",
            "\n",
            "Epoch 44/50\n",
            "----------\n",
            "Val Loss : 0.000184\n",
            "\n",
            "Epoch 45/50\n",
            "----------\n",
            "Val Loss : 0.000185\n",
            "\n",
            "Epoch 46/50\n",
            "----------\n",
            "Val Loss : 0.000243\n",
            "\n",
            "Epoch 47/50\n",
            "----------\n",
            "Val Loss : 0.000168\n",
            "\n",
            "Epoch 48/50\n",
            "----------\n",
            "Val Loss : 0.000158\n",
            "\n",
            "Epoch 49/50\n",
            "----------\n",
            "Val Loss : 0.000151\n",
            "\n",
            "Epoch 50/50\n",
            "----------\n",
            "Val Loss : 0.000135\n",
            "\n"
          ]
        }
      ]
    }
  ]
}