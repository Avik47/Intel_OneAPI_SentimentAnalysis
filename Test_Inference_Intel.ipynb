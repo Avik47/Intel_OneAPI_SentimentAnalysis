{
  "nbformat": 4,
  "nbformat_minor": 0,
  "metadata": {
    "colab": {
      "provenance": []
    },
    "kernelspec": {
      "name": "python3",
      "display_name": "Python 3"
    },
    "language_info": {
      "name": "python"
    },
    "gpuClass": "standard"
  },
  "cells": [
    {
      "cell_type": "code",
      "source": [
        "from google.colab import drive\n",
        "drive.mount('/content/drive')"
      ],
      "metadata": {
        "id": "fYQd89ALDjh3",
        "colab": {
          "base_uri": "https://localhost:8080/"
        },
        "outputId": "8ce54762-34a8-4a7c-c38f-b9f5e39e91df"
      },
      "execution_count": 1,
      "outputs": [
        {
          "output_type": "stream",
          "name": "stdout",
          "text": [
            "Mounted at /content/drive\n"
          ]
        }
      ]
    },
    {
      "cell_type": "markdown",
      "source": [
        "**Installing Pytorch version 1.13.1**"
      ],
      "metadata": {
        "id": "s474ZZ1tTjxk"
      }
    },
    {
      "cell_type": "code",
      "source": [
        "pip install torch==1.13.1+cpu torchvision==0.14.1+cpu -fhttps://download.pytorch.org/whl/torch_stable.html"
      ],
      "metadata": {
        "colab": {
          "base_uri": "https://localhost:8080/"
        },
        "id": "gvSJ_GJ7p4sU",
        "outputId": "c5078cc6-5ced-4b41-867c-b468cdec26ec"
      },
      "execution_count": 2,
      "outputs": [
        {
          "output_type": "stream",
          "name": "stdout",
          "text": [
            "Looking in indexes: https://pypi.org/simple, https://us-python.pkg.dev/colab-wheels/public/simple/\n",
            "Looking in links: https://download.pytorch.org/whl/torch_stable.html\n",
            "Collecting torch==1.13.1+cpu\n",
            "  Downloading https://download.pytorch.org/whl/cpu/torch-1.13.1%2Bcpu-cp310-cp310-linux_x86_64.whl (199.1 MB)\n",
            "\u001b[2K     \u001b[90m━━━━━━━━━━━━━━━━━━━━━━━━━━━━━━━━━━━━━━━\u001b[0m \u001b[32m199.1/199.1 MB\u001b[0m \u001b[31m5.1 MB/s\u001b[0m eta \u001b[36m0:00:00\u001b[0m\n",
            "\u001b[?25hCollecting torchvision==0.14.1+cpu\n",
            "  Downloading https://download.pytorch.org/whl/cpu/torchvision-0.14.1%2Bcpu-cp310-cp310-linux_x86_64.whl (16.8 MB)\n",
            "\u001b[2K     \u001b[90m━━━━━━━━━━━━━━━━━━━━━━━━━━━━━━━━━━━━━━━━\u001b[0m \u001b[32m16.8/16.8 MB\u001b[0m \u001b[31m44.0 MB/s\u001b[0m eta \u001b[36m0:00:00\u001b[0m\n",
            "\u001b[?25hRequirement already satisfied: typing-extensions in /usr/local/lib/python3.10/dist-packages (from torch==1.13.1+cpu) (4.5.0)\n",
            "Requirement already satisfied: pillow!=8.3.*,>=5.3.0 in /usr/local/lib/python3.10/dist-packages (from torchvision==0.14.1+cpu) (8.4.0)\n",
            "Requirement already satisfied: numpy in /usr/local/lib/python3.10/dist-packages (from torchvision==0.14.1+cpu) (1.22.4)\n",
            "Requirement already satisfied: requests in /usr/local/lib/python3.10/dist-packages (from torchvision==0.14.1+cpu) (2.27.1)\n",
            "Requirement already satisfied: idna<4,>=2.5 in /usr/local/lib/python3.10/dist-packages (from requests->torchvision==0.14.1+cpu) (3.4)\n",
            "Requirement already satisfied: charset-normalizer~=2.0.0 in /usr/local/lib/python3.10/dist-packages (from requests->torchvision==0.14.1+cpu) (2.0.12)\n",
            "Requirement already satisfied: certifi>=2017.4.17 in /usr/local/lib/python3.10/dist-packages (from requests->torchvision==0.14.1+cpu) (2022.12.7)\n",
            "Requirement already satisfied: urllib3<1.27,>=1.21.1 in /usr/local/lib/python3.10/dist-packages (from requests->torchvision==0.14.1+cpu) (1.26.15)\n",
            "Installing collected packages: torch, torchvision\n",
            "  Attempting uninstall: torch\n",
            "    Found existing installation: torch 2.0.0+cu118\n",
            "    Uninstalling torch-2.0.0+cu118:\n",
            "      Successfully uninstalled torch-2.0.0+cu118\n",
            "  Attempting uninstall: torchvision\n",
            "    Found existing installation: torchvision 0.15.1+cu118\n",
            "    Uninstalling torchvision-0.15.1+cu118:\n",
            "      Successfully uninstalled torchvision-0.15.1+cu118\n",
            "\u001b[31mERROR: pip's dependency resolver does not currently take into account all the packages that are installed. This behaviour is the source of the following dependency conflicts.\n",
            "torchtext 0.15.1 requires torch==2.0.0, but you have torch 1.13.1+cpu which is incompatible.\n",
            "torchdata 0.6.0 requires torch==2.0.0, but you have torch 1.13.1+cpu which is incompatible.\n",
            "torchaudio 2.0.1+cu118 requires torch==2.0.0, but you have torch 1.13.1+cpu which is incompatible.\u001b[0m\u001b[31m\n",
            "\u001b[0mSuccessfully installed torch-1.13.1+cpu torchvision-0.14.1+cpu\n"
          ]
        }
      ]
    },
    {
      "cell_type": "markdown",
      "source": [
        "**Integrating oneDNN Intel Extension for Pytorch for model training**"
      ],
      "metadata": {
        "id": "D1IfP-ZvTm51"
      }
    },
    {
      "cell_type": "code",
      "source": [
        "pip install intel_extension_for_pytorch==1.13.100 -fhttps://developer.intel.com/ipex-whl-stable-cpu"
      ],
      "metadata": {
        "id": "fKnYHhSPrb6T"
      },
      "execution_count": null,
      "outputs": []
    },
    {
      "cell_type": "code",
      "source": [
        "import torch"
      ],
      "metadata": {
        "id": "lY1UKxGG2V5C"
      },
      "execution_count": 4,
      "outputs": []
    },
    {
      "cell_type": "code",
      "source": [
        "device=torch.device(\"cuda:0\" if torch.cuda.is_available() else \"cpu\")"
      ],
      "metadata": {
        "id": "A7DwseUh18jo"
      },
      "execution_count": 5,
      "outputs": []
    },
    {
      "cell_type": "markdown",
      "source": [
        "**Naming the intel extension for pytorch as ipex**"
      ],
      "metadata": {
        "id": "BnMLHhpyT0Q9"
      }
    },
    {
      "cell_type": "code",
      "source": [
        "import intel_extension_for_pytorch as ipex"
      ],
      "metadata": {
        "colab": {
          "base_uri": "https://localhost:8080/"
        },
        "id": "0mFOcsYKsQOI",
        "outputId": "9d073589-8d2f-402f-8e19-c7845afef5be"
      },
      "execution_count": null,
      "outputs": [
        {
          "output_type": "stream",
          "name": "stderr",
          "text": [
            "No CUDA runtime is found, using CUDA_HOME='/usr/local/cuda'\n"
          ]
        }
      ]
    },
    {
      "cell_type": "code",
      "source": [
        "!pip install modin[all]\n",
        "import modin.pandas as pd\n",
        "import numpy as np"
      ],
      "metadata": {
        "id": "dBZCxQNBByOj"
      },
      "execution_count": 6,
      "outputs": []
    },
    {
      "cell_type": "code",
      "source": [
        "!pip install scikit-learn-intelex"
      ],
      "metadata": {
        "colab": {
          "base_uri": "https://localhost:8080/"
        },
        "id": "X9I4aZGWFjsh",
        "outputId": "6c862d50-58ec-4e41-beb6-847ba3d9d8ae"
      },
      "execution_count": 7,
      "outputs": [
        {
          "output_type": "stream",
          "name": "stdout",
          "text": [
            "Looking in indexes: https://pypi.org/simple, https://us-python.pkg.dev/colab-wheels/public/simple/\n",
            "Collecting scikit-learn-intelex\n",
            "  Downloading scikit_learn_intelex-2023.1.1-py310-none-manylinux1_x86_64.whl (115 kB)\n",
            "\u001b[2K     \u001b[90m━━━━━━━━━━━━━━━━━━━━━━━━━━━━━━━━━━━━━━━\u001b[0m \u001b[32m115.3/115.3 kB\u001b[0m \u001b[31m3.1 MB/s\u001b[0m eta \u001b[36m0:00:00\u001b[0m\n",
            "\u001b[?25hCollecting daal4py==2023.1.1\n",
            "  Downloading daal4py-2023.1.1-py310-none-manylinux1_x86_64.whl (13.9 MB)\n",
            "\u001b[2K     \u001b[90m━━━━━━━━━━━━━━━━━━━━━━━━━━━━━━━━━━━━━━━━\u001b[0m \u001b[32m13.9/13.9 MB\u001b[0m \u001b[31m46.7 MB/s\u001b[0m eta \u001b[36m0:00:00\u001b[0m\n",
            "\u001b[?25hRequirement already satisfied: scikit-learn>=0.22 in /usr/local/lib/python3.10/dist-packages (from scikit-learn-intelex) (1.2.2)\n",
            "Collecting daal==2023.1.1\n",
            "  Downloading daal-2023.1.1-py2.py3-none-manylinux1_x86_64.whl (69.2 MB)\n",
            "\u001b[2K     \u001b[90m━━━━━━━━━━━━━━━━━━━━━━━━━━━━━━━━━━━━━━━━\u001b[0m \u001b[32m69.2/69.2 MB\u001b[0m \u001b[31m9.9 MB/s\u001b[0m eta \u001b[36m0:00:00\u001b[0m\n",
            "\u001b[?25hRequirement already satisfied: numpy>=1.19 in /usr/local/lib/python3.10/dist-packages (from daal4py==2023.1.1->scikit-learn-intelex) (1.22.4)\n",
            "Collecting tbb==2021.*\n",
            "  Downloading tbb-2021.9.0-py2.py3-none-manylinux1_x86_64.whl (4.0 MB)\n",
            "\u001b[2K     \u001b[90m━━━━━━━━━━━━━━━━━━━━━━━━━━━━━━━━━━━━━━━━\u001b[0m \u001b[32m4.0/4.0 MB\u001b[0m \u001b[31m76.7 MB/s\u001b[0m eta \u001b[36m0:00:00\u001b[0m\n",
            "\u001b[?25hRequirement already satisfied: joblib>=1.1.1 in /usr/local/lib/python3.10/dist-packages (from scikit-learn>=0.22->scikit-learn-intelex) (1.2.0)\n",
            "Requirement already satisfied: scipy>=1.3.2 in /usr/local/lib/python3.10/dist-packages (from scikit-learn>=0.22->scikit-learn-intelex) (1.10.1)\n",
            "Requirement already satisfied: threadpoolctl>=2.0.0 in /usr/local/lib/python3.10/dist-packages (from scikit-learn>=0.22->scikit-learn-intelex) (3.1.0)\n",
            "Installing collected packages: tbb, daal, daal4py, scikit-learn-intelex\n",
            "Successfully installed daal-2023.1.1 daal4py-2023.1.1 scikit-learn-intelex-2023.1.1 tbb-2021.9.0\n"
          ]
        }
      ]
    },
    {
      "cell_type": "code",
      "source": [
        "df_title = pd.read_csv(\"/content/drive/MyDrive/Intel Challenge/Final_Test_data/Test_Title.csv\")\n",
        "df_headline = pd.read_csv(\"/content/drive/MyDrive/Intel Challenge/Final_Test_data/Test_Headline.csv\")"
      ],
      "metadata": {
        "id": "95ZQyTBsBjj-"
      },
      "execution_count": 73,
      "outputs": []
    },
    {
      "cell_type": "code",
      "source": [
        "df_title.head(20)"
      ],
      "metadata": {
        "id": "xYC-0xAtBxDo",
        "colab": {
          "base_uri": "https://localhost:8080/",
          "height": 677
        },
        "outputId": "8716d8be-46bf-4ab4-c23e-62658fad9e66"
      },
      "execution_count": 74,
      "outputs": [
        {
          "output_type": "execute_result",
          "data": {
            "text/plain": [
              "       ID_Link                                         Test_Title\n",
              "0   BJ8bLZcYcm  [-0.0085198 -0.0085198 -0.0085198 -0.0085198  ...\n",
              "1   ph8TGKbvNp  [-0.0029362 -0.0029362 -0.0029362 -0.0029362 -...\n",
              "2   qJDgUHX7Ay  [-0.00103843 -0.00103843 -0.00103843 -0.001038...\n",
              "3   2MVdzsl9s1  [0.00244925 0.00244925 0.00244925 0.00244925 0...\n",
              "4   6QFCqKq50Q  [-0.00444947 -0.00444947 -0.00444947 -0.004449...\n",
              "5   50Gqd3bxAP  [-2.90675962e-05 -2.90675962e-05 -2.90675962e-...\n",
              "6   4XFbet5nuU  [-0.00526271 -0.00526271 -0.00526271 -0.005262...\n",
              "7   EHxfGLWj4D  [-0.0117118 -0.0117118 -0.0117118  0.         ...\n",
              "8   GIgCdpoXQg  [-0.00249012 -0.00249012 -0.00249012 -0.002490...\n",
              "9   FsU13jkSUN  [-0.00433841 -0.00433841 -0.00433841 -0.004338...\n",
              "10  cH6jw5NJZG  [-0.00669367 -0.00669367 -0.00669367 -0.006693...\n",
              "11  1ZGtTCOMob  [-0.00138479 -0.00138479 -0.00138479 -0.001384...\n",
              "12  tLEIzoyy1U  [0.00213527 0.00213527 0.00213527 0.00213527 0...\n",
              "13  LT0vJ9e8RL  [-0.00225667 -0.00225667 -0.00225667 -0.002256...\n",
              "14  fLhSewI7hl  [0.00244925 0.00244925 0.00244925 0.00244925 0...\n",
              "15  BKmMCCyI24  [-0.00553724 -0.00553724 -0.00553724 -0.005537...\n",
              "16  zLfTXlitf4  [-0.00891268 -0.00891268 -0.00891268 -0.008912...\n",
              "17  D1UGJpSrZZ  [-0.00963438 -0.00963438 -0.00963438 -0.009634...\n",
              "18  N1XTITfsp6  [-0.00834854 -0.00834854 -0.00834854 -0.008348...\n",
              "19  0V9oxMjhMt  [-0.00775049 -0.00775049 -0.00775049 -0.007750..."
            ],
            "text/html": [
              "\n",
              "  <div id=\"df-30336a5e-30ff-4473-9151-49ddaa7f27c5\">\n",
              "    <div class=\"colab-df-container\">\n",
              "      <div>\n",
              "<style scoped>\n",
              "    .dataframe tbody tr th:only-of-type {\n",
              "        vertical-align: middle;\n",
              "    }\n",
              "\n",
              "    .dataframe tbody tr th {\n",
              "        vertical-align: top;\n",
              "    }\n",
              "\n",
              "    .dataframe thead th {\n",
              "        text-align: right;\n",
              "    }\n",
              "</style>\n",
              "<table border=\"1\" class=\"dataframe\">\n",
              "  <thead>\n",
              "    <tr style=\"text-align: right;\">\n",
              "      <th></th>\n",
              "      <th>ID_Link</th>\n",
              "      <th>Test_Title</th>\n",
              "    </tr>\n",
              "  </thead>\n",
              "  <tbody>\n",
              "    <tr>\n",
              "      <th>0</th>\n",
              "      <td>BJ8bLZcYcm</td>\n",
              "      <td>[-0.0085198 -0.0085198 -0.0085198 -0.0085198  ...</td>\n",
              "    </tr>\n",
              "    <tr>\n",
              "      <th>1</th>\n",
              "      <td>ph8TGKbvNp</td>\n",
              "      <td>[-0.0029362 -0.0029362 -0.0029362 -0.0029362 -...</td>\n",
              "    </tr>\n",
              "    <tr>\n",
              "      <th>2</th>\n",
              "      <td>qJDgUHX7Ay</td>\n",
              "      <td>[-0.00103843 -0.00103843 -0.00103843 -0.001038...</td>\n",
              "    </tr>\n",
              "    <tr>\n",
              "      <th>3</th>\n",
              "      <td>2MVdzsl9s1</td>\n",
              "      <td>[0.00244925 0.00244925 0.00244925 0.00244925 0...</td>\n",
              "    </tr>\n",
              "    <tr>\n",
              "      <th>4</th>\n",
              "      <td>6QFCqKq50Q</td>\n",
              "      <td>[-0.00444947 -0.00444947 -0.00444947 -0.004449...</td>\n",
              "    </tr>\n",
              "    <tr>\n",
              "      <th>5</th>\n",
              "      <td>50Gqd3bxAP</td>\n",
              "      <td>[-2.90675962e-05 -2.90675962e-05 -2.90675962e-...</td>\n",
              "    </tr>\n",
              "    <tr>\n",
              "      <th>6</th>\n",
              "      <td>4XFbet5nuU</td>\n",
              "      <td>[-0.00526271 -0.00526271 -0.00526271 -0.005262...</td>\n",
              "    </tr>\n",
              "    <tr>\n",
              "      <th>7</th>\n",
              "      <td>EHxfGLWj4D</td>\n",
              "      <td>[-0.0117118 -0.0117118 -0.0117118  0.         ...</td>\n",
              "    </tr>\n",
              "    <tr>\n",
              "      <th>8</th>\n",
              "      <td>GIgCdpoXQg</td>\n",
              "      <td>[-0.00249012 -0.00249012 -0.00249012 -0.002490...</td>\n",
              "    </tr>\n",
              "    <tr>\n",
              "      <th>9</th>\n",
              "      <td>FsU13jkSUN</td>\n",
              "      <td>[-0.00433841 -0.00433841 -0.00433841 -0.004338...</td>\n",
              "    </tr>\n",
              "    <tr>\n",
              "      <th>10</th>\n",
              "      <td>cH6jw5NJZG</td>\n",
              "      <td>[-0.00669367 -0.00669367 -0.00669367 -0.006693...</td>\n",
              "    </tr>\n",
              "    <tr>\n",
              "      <th>11</th>\n",
              "      <td>1ZGtTCOMob</td>\n",
              "      <td>[-0.00138479 -0.00138479 -0.00138479 -0.001384...</td>\n",
              "    </tr>\n",
              "    <tr>\n",
              "      <th>12</th>\n",
              "      <td>tLEIzoyy1U</td>\n",
              "      <td>[0.00213527 0.00213527 0.00213527 0.00213527 0...</td>\n",
              "    </tr>\n",
              "    <tr>\n",
              "      <th>13</th>\n",
              "      <td>LT0vJ9e8RL</td>\n",
              "      <td>[-0.00225667 -0.00225667 -0.00225667 -0.002256...</td>\n",
              "    </tr>\n",
              "    <tr>\n",
              "      <th>14</th>\n",
              "      <td>fLhSewI7hl</td>\n",
              "      <td>[0.00244925 0.00244925 0.00244925 0.00244925 0...</td>\n",
              "    </tr>\n",
              "    <tr>\n",
              "      <th>15</th>\n",
              "      <td>BKmMCCyI24</td>\n",
              "      <td>[-0.00553724 -0.00553724 -0.00553724 -0.005537...</td>\n",
              "    </tr>\n",
              "    <tr>\n",
              "      <th>16</th>\n",
              "      <td>zLfTXlitf4</td>\n",
              "      <td>[-0.00891268 -0.00891268 -0.00891268 -0.008912...</td>\n",
              "    </tr>\n",
              "    <tr>\n",
              "      <th>17</th>\n",
              "      <td>D1UGJpSrZZ</td>\n",
              "      <td>[-0.00963438 -0.00963438 -0.00963438 -0.009634...</td>\n",
              "    </tr>\n",
              "    <tr>\n",
              "      <th>18</th>\n",
              "      <td>N1XTITfsp6</td>\n",
              "      <td>[-0.00834854 -0.00834854 -0.00834854 -0.008348...</td>\n",
              "    </tr>\n",
              "    <tr>\n",
              "      <th>19</th>\n",
              "      <td>0V9oxMjhMt</td>\n",
              "      <td>[-0.00775049 -0.00775049 -0.00775049 -0.007750...</td>\n",
              "    </tr>\n",
              "  </tbody>\n",
              "</table>\n",
              "</div>\n",
              "      <button class=\"colab-df-convert\" onclick=\"convertToInteractive('df-30336a5e-30ff-4473-9151-49ddaa7f27c5')\"\n",
              "              title=\"Convert this dataframe to an interactive table.\"\n",
              "              style=\"display:none;\">\n",
              "        \n",
              "  <svg xmlns=\"http://www.w3.org/2000/svg\" height=\"24px\"viewBox=\"0 0 24 24\"\n",
              "       width=\"24px\">\n",
              "    <path d=\"M0 0h24v24H0V0z\" fill=\"none\"/>\n",
              "    <path d=\"M18.56 5.44l.94 2.06.94-2.06 2.06-.94-2.06-.94-.94-2.06-.94 2.06-2.06.94zm-11 1L8.5 8.5l.94-2.06 2.06-.94-2.06-.94L8.5 2.5l-.94 2.06-2.06.94zm10 10l.94 2.06.94-2.06 2.06-.94-2.06-.94-.94-2.06-.94 2.06-2.06.94z\"/><path d=\"M17.41 7.96l-1.37-1.37c-.4-.4-.92-.59-1.43-.59-.52 0-1.04.2-1.43.59L10.3 9.45l-7.72 7.72c-.78.78-.78 2.05 0 2.83L4 21.41c.39.39.9.59 1.41.59.51 0 1.02-.2 1.41-.59l7.78-7.78 2.81-2.81c.8-.78.8-2.07 0-2.86zM5.41 20L4 18.59l7.72-7.72 1.47 1.35L5.41 20z\"/>\n",
              "  </svg>\n",
              "      </button>\n",
              "      \n",
              "  <style>\n",
              "    .colab-df-container {\n",
              "      display:flex;\n",
              "      flex-wrap:wrap;\n",
              "      gap: 12px;\n",
              "    }\n",
              "\n",
              "    .colab-df-convert {\n",
              "      background-color: #E8F0FE;\n",
              "      border: none;\n",
              "      border-radius: 50%;\n",
              "      cursor: pointer;\n",
              "      display: none;\n",
              "      fill: #1967D2;\n",
              "      height: 32px;\n",
              "      padding: 0 0 0 0;\n",
              "      width: 32px;\n",
              "    }\n",
              "\n",
              "    .colab-df-convert:hover {\n",
              "      background-color: #E2EBFA;\n",
              "      box-shadow: 0px 1px 2px rgba(60, 64, 67, 0.3), 0px 1px 3px 1px rgba(60, 64, 67, 0.15);\n",
              "      fill: #174EA6;\n",
              "    }\n",
              "\n",
              "    [theme=dark] .colab-df-convert {\n",
              "      background-color: #3B4455;\n",
              "      fill: #D2E3FC;\n",
              "    }\n",
              "\n",
              "    [theme=dark] .colab-df-convert:hover {\n",
              "      background-color: #434B5C;\n",
              "      box-shadow: 0px 1px 3px 1px rgba(0, 0, 0, 0.15);\n",
              "      filter: drop-shadow(0px 1px 2px rgba(0, 0, 0, 0.3));\n",
              "      fill: #FFFFFF;\n",
              "    }\n",
              "  </style>\n",
              "\n",
              "      <script>\n",
              "        const buttonEl =\n",
              "          document.querySelector('#df-30336a5e-30ff-4473-9151-49ddaa7f27c5 button.colab-df-convert');\n",
              "        buttonEl.style.display =\n",
              "          google.colab.kernel.accessAllowed ? 'block' : 'none';\n",
              "\n",
              "        async function convertToInteractive(key) {\n",
              "          const element = document.querySelector('#df-30336a5e-30ff-4473-9151-49ddaa7f27c5');\n",
              "          const dataTable =\n",
              "            await google.colab.kernel.invokeFunction('convertToInteractive',\n",
              "                                                     [key], {});\n",
              "          if (!dataTable) return;\n",
              "\n",
              "          const docLinkHtml = 'Like what you see? Visit the ' +\n",
              "            '<a target=\"_blank\" href=https://colab.research.google.com/notebooks/data_table.ipynb>data table notebook</a>'\n",
              "            + ' to learn more about interactive tables.';\n",
              "          element.innerHTML = '';\n",
              "          dataTable['output_type'] = 'display_data';\n",
              "          await google.colab.output.renderOutput(dataTable, element);\n",
              "          const docLink = document.createElement('div');\n",
              "          docLink.innerHTML = docLinkHtml;\n",
              "          element.appendChild(docLink);\n",
              "        }\n",
              "      </script>\n",
              "    </div>\n",
              "  </div>\n",
              "  "
            ]
          },
          "metadata": {},
          "execution_count": 74
        }
      ]
    },
    {
      "cell_type": "code",
      "source": [
        "def converting(input_list):\n",
        "  arr=np.array(input_list)\n",
        "  lst = arr.tolist()\n",
        "  out = [float(x) for x in lst.strip('[]').split()]\n",
        "  return out"
      ],
      "metadata": {
        "id": "1ayo4MFyEUtt"
      },
      "execution_count": 53,
      "outputs": []
    },
    {
      "cell_type": "code",
      "source": [
        "Title=list(df_title['Test_Title'])\n",
        "Title_Final=[]\n",
        "i=0\n",
        "for i in range(len(Title)):\n",
        "  t=Title[i]\n",
        "  Title_Final.append(converting(t))\n",
        "  i=i+1\n",
        "title_list = np.array(Title_Final)"
      ],
      "metadata": {
        "id": "8iuqD7j7EUwq"
      },
      "execution_count": 75,
      "outputs": []
    },
    {
      "cell_type": "code",
      "source": [
        "Headline=list(df_headline['Test_Headline'])\n",
        "Headline_Final=[]\n",
        "i=0\n",
        "for i in range(len(Headline)):\n",
        "  t=Headline[i]\n",
        "  Headline_Final.append(converting(t))\n",
        "  i=i+1\n",
        "headline_list = np.array(Headline_Final)"
      ],
      "metadata": {
        "id": "eaWEeCCnU_MM"
      },
      "execution_count": 76,
      "outputs": []
    },
    {
      "cell_type": "code",
      "source": [
        "headline_list.shape"
      ],
      "metadata": {
        "colab": {
          "base_uri": "https://localhost:8080/"
        },
        "id": "MF-gtKn4E6Kt",
        "outputId": "3af1df6a-abc1-4290-ab07-208b82cb98ae"
      },
      "execution_count": 78,
      "outputs": [
        {
          "output_type": "execute_result",
          "data": {
            "text/plain": [
              "(15424, 48)"
            ]
          },
          "metadata": {},
          "execution_count": 78
        }
      ]
    },
    {
      "cell_type": "markdown",
      "source": [
        "**Defining create_dataloaders method for pytorch model inference**"
      ],
      "metadata": {
        "id": "SIrYmdNJVSgb"
      }
    },
    {
      "cell_type": "code",
      "source": [
        "import torch\n",
        "from torch.utils.data import TensorDataset, DataLoader\n",
        "\n",
        "batch_size = 1\n",
        "def create_dataloaders(masks, batch_size):\n",
        "    mask_tensor = torch.tensor(masks)\n",
        "    dataset = TensorDataset( mask_tensor)\n",
        "    dataloader = DataLoader(dataset, batch_size=batch_size, \n",
        "                            shuffle=False)\n",
        "    return dataloader"
      ],
      "metadata": {
        "id": "sv3HG_BnFpfc"
      },
      "execution_count": 79,
      "outputs": []
    },
    {
      "cell_type": "code",
      "source": [
        "test_title_dataloader = create_dataloaders(title_list, batch_size)\n",
        "test_headline_dataloader=create_dataloaders(headline_list,batch_size)"
      ],
      "metadata": {
        "id": "nENwWVct8GUF"
      },
      "execution_count": 80,
      "outputs": []
    },
    {
      "cell_type": "code",
      "source": [
        "mod_wts_title=torch.load(\"/content/drive/MyDrive/Intel Challenge/Trained_Models/Best_ANN_1.pth\")\n",
        "mod_wts_headline=torch.load(\"/content/drive/MyDrive/Intel Challenge/Trained_Models/Best_ANN_2.pth\")"
      ],
      "metadata": {
        "id": "ScCvUsWx3JDT"
      },
      "execution_count": 82,
      "outputs": []
    },
    {
      "cell_type": "code",
      "source": [
        "# Defining the model\n",
        "\n",
        "import torch.nn as nn\n",
        "class ANN_1_title(nn.Module):\n",
        "    \n",
        "    def __init__(self): \n",
        "        super(ANN_1_title, self).__init__()\n",
        "        self.classifier = nn.Sequential(\n",
        "            nn.Linear(18,5),\n",
        "            nn.ReLU(),\n",
        "            nn.Linear(5,1)\n",
        "        )\n",
        "        \n",
        "    def forward(self,features):\n",
        "        features = features.to(self.classifier[0].weight.dtype)\n",
        "        outputs = self.classifier(features)\n",
        "        return outputs\n",
        "\n",
        "model_title = ANN_1_title()"
      ],
      "metadata": {
        "id": "LyklhpX534xZ"
      },
      "execution_count": 83,
      "outputs": []
    },
    {
      "cell_type": "code",
      "source": [
        "class ANN_2_headline(nn.Module):\n",
        "    \n",
        "    def __init__(self): \n",
        "        super(ANN_2_headline, self).__init__()\n",
        "        self.classifier = nn.Sequential(\n",
        "            nn.Linear(48,10),\n",
        "            nn.ReLU(),\n",
        "            nn.Linear(10,7),\n",
        "            nn.Dropout(0.2),\n",
        "            nn.Linear(7,1))\n",
        "        \n",
        "        \n",
        "    def forward(self,features):\n",
        "        features = features.to(self.classifier[0].weight.dtype)\n",
        "        outputs = self.classifier(features)\n",
        "        return outputs\n",
        "\n",
        "model_headline = ANN_2_headline()"
      ],
      "metadata": {
        "id": "yF4AVpOSWgDJ"
      },
      "execution_count": 85,
      "outputs": []
    },
    {
      "cell_type": "code",
      "source": [
        "model_title.to(device)\n",
        "model_headline.to(device)"
      ],
      "metadata": {
        "colab": {
          "base_uri": "https://localhost:8080/"
        },
        "id": "soXTtOYmLeog",
        "outputId": "a56db26b-f409-4222-f8f2-437312fb89cc"
      },
      "execution_count": 86,
      "outputs": [
        {
          "output_type": "execute_result",
          "data": {
            "text/plain": [
              "ANN_2_headline(\n",
              "  (classifier): Sequential(\n",
              "    (0): Linear(in_features=48, out_features=10, bias=True)\n",
              "    (1): ReLU()\n",
              "    (2): Linear(in_features=10, out_features=7, bias=True)\n",
              "    (3): Dropout(p=0.2, inplace=False)\n",
              "    (4): Linear(in_features=7, out_features=1, bias=True)\n",
              "  )\n",
              ")"
            ]
          },
          "metadata": {},
          "execution_count": 86
        }
      ]
    },
    {
      "cell_type": "code",
      "source": [
        "model_title.load_state_dict(mod_wts_title)\n",
        "model_headline.load_state_dict(mod_wts_headline)"
      ],
      "metadata": {
        "colab": {
          "base_uri": "https://localhost:8080/"
        },
        "id": "KVxOLBPg4VAE",
        "outputId": "bb86abba-0e15-4b5b-d55d-012a196f7144"
      },
      "execution_count": 87,
      "outputs": [
        {
          "output_type": "execute_result",
          "data": {
            "text/plain": [
              "<All keys matched successfully>"
            ]
          },
          "metadata": {},
          "execution_count": 87
        }
      ]
    },
    {
      "cell_type": "markdown",
      "source": [
        "**Performing the ipex optimize operation for inference**"
      ],
      "metadata": {
        "id": "2PB9V0WzZbuT"
      }
    },
    {
      "cell_type": "code",
      "source": [
        "model_headline=ipex.optimize(model_headline)"
      ],
      "metadata": {
        "id": "7BIona9-ZiKt"
      },
      "execution_count": null,
      "outputs": []
    },
    {
      "cell_type": "code",
      "source": [
        "model_headline.eval()"
      ],
      "metadata": {
        "colab": {
          "base_uri": "https://localhost:8080/"
        },
        "id": "_0hmysbnY-h0",
        "outputId": "0e5d3f59-cdbc-46f2-c98b-bc5fc53f6e54"
      },
      "execution_count": 96,
      "outputs": [
        {
          "output_type": "execute_result",
          "data": {
            "text/plain": [
              "ANN_2_headline(\n",
              "  (classifier): Sequential(\n",
              "    (0): Linear(in_features=48, out_features=10, bias=True)\n",
              "    (1): ReLU()\n",
              "    (2): Linear(in_features=10, out_features=7, bias=True)\n",
              "    (3): Dropout(p=0.2, inplace=False)\n",
              "    (4): Linear(in_features=7, out_features=1, bias=True)\n",
              "  )\n",
              ")"
            ]
          },
          "metadata": {},
          "execution_count": 96
        }
      ]
    },
    {
      "cell_type": "code",
      "source": [
        "test_pred_Headline=[]\n",
        "with torch.set_grad_enabled(False):\n",
        "  for batch in test_headline_dataloader: \n",
        "            #batch_masks=batch_masks.to(device1)\n",
        "            #batch_labels=batch_labels.to(device1)\n",
        "            #print(step)  \n",
        "            #batch=tuple(batch[0].to(device))\n",
        "            outputs = model_headline(features=batch[0])\n",
        "            test_pred_Headline.append(outputs.squeeze().detach().item())\n",
        "        "
      ],
      "metadata": {
        "id": "vwj2Gopi4mi4"
      },
      "execution_count": 97,
      "outputs": []
    },
    {
      "cell_type": "code",
      "source": [
        "print(len(test_pred_Headline))"
      ],
      "metadata": {
        "colab": {
          "base_uri": "https://localhost:8080/"
        },
        "id": "XA2Uk5SM7SX1",
        "outputId": "33f1795f-653e-446f-e6a0-1d2efc3025c1"
      },
      "execution_count": 89,
      "outputs": [
        {
          "output_type": "stream",
          "name": "stdout",
          "text": [
            "15424\n"
          ]
        }
      ]
    },
    {
      "cell_type": "code",
      "source": [
        "model_title=ipex.optimize(model_title)"
      ],
      "metadata": {
        "id": "frjeL1c7ZvQf"
      },
      "execution_count": null,
      "outputs": []
    },
    {
      "cell_type": "code",
      "source": [
        "model_title.eval()"
      ],
      "metadata": {
        "colab": {
          "base_uri": "https://localhost:8080/"
        },
        "id": "61HT4R8dZLdB",
        "outputId": "97f0f0d3-8a09-4509-8b5e-2a92e2618146"
      },
      "execution_count": 98,
      "outputs": [
        {
          "output_type": "execute_result",
          "data": {
            "text/plain": [
              "ANN_1_title(\n",
              "  (classifier): Sequential(\n",
              "    (0): Linear(in_features=18, out_features=5, bias=True)\n",
              "    (1): ReLU()\n",
              "    (2): Linear(in_features=5, out_features=1, bias=True)\n",
              "  )\n",
              ")"
            ]
          },
          "metadata": {},
          "execution_count": 98
        }
      ]
    },
    {
      "cell_type": "code",
      "source": [
        "test_pred_Title=[]\n",
        "with torch.set_grad_enabled(False):\n",
        "  for batch in test_title_dataloader: \n",
        "            #batch_masks=batch_masks.to(device1)\n",
        "            #batch_labels=batch_labels.to(device1)\n",
        "            #print(step)  \n",
        "            #batch=tuple(batch[0].to(device))\n",
        "            outputs = model_title(features=batch[0])\n",
        "            test_pred_Title.append(outputs.squeeze().detach().item())\n",
        "        "
      ],
      "metadata": {
        "id": "tS91wlhR8cKR"
      },
      "execution_count": 99,
      "outputs": []
    },
    {
      "cell_type": "code",
      "source": [
        "print(len(test_pred_Title))"
      ],
      "metadata": {
        "colab": {
          "base_uri": "https://localhost:8080/"
        },
        "id": "QV7SdSxL8mbc",
        "outputId": "b1627aac-4cca-458f-910d-086e12321545"
      },
      "execution_count": 91,
      "outputs": [
        {
          "output_type": "stream",
          "name": "stdout",
          "text": [
            "15424\n"
          ]
        }
      ]
    },
    {
      "cell_type": "code",
      "source": [
        "final_df={\"IDLink\":list(df_title['ID_Link']),\"SentimentTitle\":test_pred_Title,\"SentimentHeadline\":test_pred_Headline}"
      ],
      "metadata": {
        "id": "24Jj_B--8qPh"
      },
      "execution_count": 100,
      "outputs": []
    },
    {
      "cell_type": "code",
      "source": [
        "new_df = pd.DataFrame.from_dict(final_df)"
      ],
      "metadata": {
        "id": "PhVRFYSJ9We1"
      },
      "execution_count": 101,
      "outputs": []
    },
    {
      "cell_type": "code",
      "source": [
        "new_df.head()"
      ],
      "metadata": {
        "colab": {
          "base_uri": "https://localhost:8080/",
          "height": 206
        },
        "id": "JAx8ziOe9bUV",
        "outputId": "8a47689e-e054-4461-d7ad-f2406bce2553"
      },
      "execution_count": 102,
      "outputs": [
        {
          "output_type": "execute_result",
          "data": {
            "text/plain": [
              "       IDLink  SentimentTitle  SentimentHeadline\n",
              "0  BJ8bLZcYcm        0.190186          -0.147296\n",
              "1  ph8TGKbvNp        0.190663          -0.147193\n",
              "2  qJDgUHX7Ay        0.190819          -0.147984\n",
              "3  2MVdzsl9s1        0.190597          -0.146979\n",
              "4  6QFCqKq50Q        0.191036          -0.147067"
            ],
            "text/html": [
              "\n",
              "  <div id=\"df-fc99f1a3-e49b-49a8-971a-e796ffa543e9\">\n",
              "    <div class=\"colab-df-container\">\n",
              "      <div>\n",
              "<style scoped>\n",
              "    .dataframe tbody tr th:only-of-type {\n",
              "        vertical-align: middle;\n",
              "    }\n",
              "\n",
              "    .dataframe tbody tr th {\n",
              "        vertical-align: top;\n",
              "    }\n",
              "\n",
              "    .dataframe thead th {\n",
              "        text-align: right;\n",
              "    }\n",
              "</style>\n",
              "<table border=\"1\" class=\"dataframe\">\n",
              "  <thead>\n",
              "    <tr style=\"text-align: right;\">\n",
              "      <th></th>\n",
              "      <th>IDLink</th>\n",
              "      <th>SentimentTitle</th>\n",
              "      <th>SentimentHeadline</th>\n",
              "    </tr>\n",
              "  </thead>\n",
              "  <tbody>\n",
              "    <tr>\n",
              "      <th>0</th>\n",
              "      <td>BJ8bLZcYcm</td>\n",
              "      <td>0.190186</td>\n",
              "      <td>-0.147296</td>\n",
              "    </tr>\n",
              "    <tr>\n",
              "      <th>1</th>\n",
              "      <td>ph8TGKbvNp</td>\n",
              "      <td>0.190663</td>\n",
              "      <td>-0.147193</td>\n",
              "    </tr>\n",
              "    <tr>\n",
              "      <th>2</th>\n",
              "      <td>qJDgUHX7Ay</td>\n",
              "      <td>0.190819</td>\n",
              "      <td>-0.147984</td>\n",
              "    </tr>\n",
              "    <tr>\n",
              "      <th>3</th>\n",
              "      <td>2MVdzsl9s1</td>\n",
              "      <td>0.190597</td>\n",
              "      <td>-0.146979</td>\n",
              "    </tr>\n",
              "    <tr>\n",
              "      <th>4</th>\n",
              "      <td>6QFCqKq50Q</td>\n",
              "      <td>0.191036</td>\n",
              "      <td>-0.147067</td>\n",
              "    </tr>\n",
              "  </tbody>\n",
              "</table>\n",
              "</div>\n",
              "      <button class=\"colab-df-convert\" onclick=\"convertToInteractive('df-fc99f1a3-e49b-49a8-971a-e796ffa543e9')\"\n",
              "              title=\"Convert this dataframe to an interactive table.\"\n",
              "              style=\"display:none;\">\n",
              "        \n",
              "  <svg xmlns=\"http://www.w3.org/2000/svg\" height=\"24px\"viewBox=\"0 0 24 24\"\n",
              "       width=\"24px\">\n",
              "    <path d=\"M0 0h24v24H0V0z\" fill=\"none\"/>\n",
              "    <path d=\"M18.56 5.44l.94 2.06.94-2.06 2.06-.94-2.06-.94-.94-2.06-.94 2.06-2.06.94zm-11 1L8.5 8.5l.94-2.06 2.06-.94-2.06-.94L8.5 2.5l-.94 2.06-2.06.94zm10 10l.94 2.06.94-2.06 2.06-.94-2.06-.94-.94-2.06-.94 2.06-2.06.94z\"/><path d=\"M17.41 7.96l-1.37-1.37c-.4-.4-.92-.59-1.43-.59-.52 0-1.04.2-1.43.59L10.3 9.45l-7.72 7.72c-.78.78-.78 2.05 0 2.83L4 21.41c.39.39.9.59 1.41.59.51 0 1.02-.2 1.41-.59l7.78-7.78 2.81-2.81c.8-.78.8-2.07 0-2.86zM5.41 20L4 18.59l7.72-7.72 1.47 1.35L5.41 20z\"/>\n",
              "  </svg>\n",
              "      </button>\n",
              "      \n",
              "  <style>\n",
              "    .colab-df-container {\n",
              "      display:flex;\n",
              "      flex-wrap:wrap;\n",
              "      gap: 12px;\n",
              "    }\n",
              "\n",
              "    .colab-df-convert {\n",
              "      background-color: #E8F0FE;\n",
              "      border: none;\n",
              "      border-radius: 50%;\n",
              "      cursor: pointer;\n",
              "      display: none;\n",
              "      fill: #1967D2;\n",
              "      height: 32px;\n",
              "      padding: 0 0 0 0;\n",
              "      width: 32px;\n",
              "    }\n",
              "\n",
              "    .colab-df-convert:hover {\n",
              "      background-color: #E2EBFA;\n",
              "      box-shadow: 0px 1px 2px rgba(60, 64, 67, 0.3), 0px 1px 3px 1px rgba(60, 64, 67, 0.15);\n",
              "      fill: #174EA6;\n",
              "    }\n",
              "\n",
              "    [theme=dark] .colab-df-convert {\n",
              "      background-color: #3B4455;\n",
              "      fill: #D2E3FC;\n",
              "    }\n",
              "\n",
              "    [theme=dark] .colab-df-convert:hover {\n",
              "      background-color: #434B5C;\n",
              "      box-shadow: 0px 1px 3px 1px rgba(0, 0, 0, 0.15);\n",
              "      filter: drop-shadow(0px 1px 2px rgba(0, 0, 0, 0.3));\n",
              "      fill: #FFFFFF;\n",
              "    }\n",
              "  </style>\n",
              "\n",
              "      <script>\n",
              "        const buttonEl =\n",
              "          document.querySelector('#df-fc99f1a3-e49b-49a8-971a-e796ffa543e9 button.colab-df-convert');\n",
              "        buttonEl.style.display =\n",
              "          google.colab.kernel.accessAllowed ? 'block' : 'none';\n",
              "\n",
              "        async function convertToInteractive(key) {\n",
              "          const element = document.querySelector('#df-fc99f1a3-e49b-49a8-971a-e796ffa543e9');\n",
              "          const dataTable =\n",
              "            await google.colab.kernel.invokeFunction('convertToInteractive',\n",
              "                                                     [key], {});\n",
              "          if (!dataTable) return;\n",
              "\n",
              "          const docLinkHtml = 'Like what you see? Visit the ' +\n",
              "            '<a target=\"_blank\" href=https://colab.research.google.com/notebooks/data_table.ipynb>data table notebook</a>'\n",
              "            + ' to learn more about interactive tables.';\n",
              "          element.innerHTML = '';\n",
              "          dataTable['output_type'] = 'display_data';\n",
              "          await google.colab.output.renderOutput(dataTable, element);\n",
              "          const docLink = document.createElement('div');\n",
              "          docLink.innerHTML = docLinkHtml;\n",
              "          element.appendChild(docLink);\n",
              "        }\n",
              "      </script>\n",
              "    </div>\n",
              "  </div>\n",
              "  "
            ]
          },
          "metadata": {},
          "execution_count": 102
        }
      ]
    },
    {
      "cell_type": "code",
      "source": [
        "new_df.to_csv(\"/content/drive/MyDrive/Intel Challenge/Final_Test_data/Final_Predictions(2).csv\", index = False)"
      ],
      "metadata": {
        "id": "VVkfq0Sw9mpY"
      },
      "execution_count": 95,
      "outputs": []
    }
  ]
}