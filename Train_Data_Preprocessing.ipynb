{
  "nbformat": 4,
  "nbformat_minor": 0,
  "metadata": {
    "colab": {
      "provenance": []
    },
    "kernelspec": {
      "name": "python3",
      "display_name": "Python 3"
    },
    "language_info": {
      "name": "python"
    }
  },
  "cells": [
    {
      "cell_type": "code",
      "source": [
        "from google.colab import drive\n",
        "drive.mount('/content/drive')"
      ],
      "metadata": {
        "colab": {
          "base_uri": "https://localhost:8080/"
        },
        "id": "G3PiXr5miKDI",
        "outputId": "c5d2075d-7ef0-4b17-9473-f62bf3e81fa9"
      },
      "execution_count": 1,
      "outputs": [
        {
          "output_type": "stream",
          "name": "stdout",
          "text": [
            "Mounted at /content/drive\n"
          ]
        }
      ]
    },
    {
      "cell_type": "markdown",
      "source": [
        "# ***Why Modin?***\n",
        "\n",
        "We use Modin, (developed by Intel and part of One-MKL): The drop-in replacement for Pandas which provided several benefits, like\n",
        "Reduced Memory Usage\n",
        "Improved Performance \n",
        "Scalability"
      ],
      "metadata": {
        "id": "A9lX3mUjHAja"
      }
    },
    {
      "cell_type": "code",
      "source": [
        "!pip install modin[all]"
      ],
      "metadata": {
        "id": "HkEfXqohpAsF",
        "colab": {
          "base_uri": "https://localhost:8080/"
        },
        "outputId": "66a34584-4afb-4fed-b527-7f83c0c59405"
      },
      "execution_count": 2,
      "outputs": [
        {
          "output_type": "stream",
          "name": "stdout",
          "text": [
            "Looking in indexes: https://pypi.org/simple, https://us-python.pkg.dev/colab-wheels/public/simple/\n",
            "Collecting modin[all]\n",
            "  Downloading modin-0.20.1-py3-none-any.whl (1.1 MB)\n",
            "\u001b[2K     \u001b[90m━━━━━━━━━━━━━━━━━━━━━━━━━━━━━━━━━━━━━━━━\u001b[0m \u001b[32m1.1/1.1 MB\u001b[0m \u001b[31m38.1 MB/s\u001b[0m eta \u001b[36m0:00:00\u001b[0m\n",
            "\u001b[?25hRequirement already satisfied: pandas==1.5.3 in /usr/local/lib/python3.10/dist-packages (from modin[all]) (1.5.3)\n",
            "Requirement already satisfied: packaging in /usr/local/lib/python3.10/dist-packages (from modin[all]) (23.1)\n",
            "Requirement already satisfied: fsspec in /usr/local/lib/python3.10/dist-packages (from modin[all]) (2023.4.0)\n",
            "Requirement already satisfied: psutil in /usr/local/lib/python3.10/dist-packages (from modin[all]) (5.9.5)\n",
            "Requirement already satisfied: numpy>=1.18.5 in /usr/local/lib/python3.10/dist-packages (from modin[all]) (1.22.4)\n",
            "Requirement already satisfied: pyarrow in /usr/local/lib/python3.10/dist-packages (from modin[all]) (9.0.0)\n",
            "Collecting rpyc==4.1.5\n",
            "  Downloading rpyc-4.1.5-py3-none-any.whl (68 kB)\n",
            "\u001b[2K     \u001b[90m━━━━━━━━━━━━━━━━━━━━━━━━━━━━━━━━━━━━━━━━\u001b[0m \u001b[32m68.9/68.9 kB\u001b[0m \u001b[31m8.7 MB/s\u001b[0m eta \u001b[36m0:00:00\u001b[0m\n",
            "\u001b[?25hCollecting ray[default]>=1.13.0\n",
            "  Downloading ray-2.4.0-cp310-cp310-manylinux2014_x86_64.whl (58.6 MB)\n",
            "\u001b[2K     \u001b[90m━━━━━━━━━━━━━━━━━━━━━━━━━━━━━━━━━━━━━━━━\u001b[0m \u001b[32m58.6/58.6 MB\u001b[0m \u001b[31m11.3 MB/s\u001b[0m eta \u001b[36m0:00:00\u001b[0m\n",
            "\u001b[?25hRequirement already satisfied: distributed>=2.22.0 in /usr/local/lib/python3.10/dist-packages (from modin[all]) (2022.12.1)\n",
            "Collecting boto3\n",
            "  Downloading boto3-1.26.129-py3-none-any.whl (135 kB)\n",
            "\u001b[2K     \u001b[90m━━━━━━━━━━━━━━━━━━━━━━━━━━━━━━━━━━━━━━\u001b[0m \u001b[32m135.6/135.6 kB\u001b[0m \u001b[31m15.5 MB/s\u001b[0m eta \u001b[36m0:00:00\u001b[0m\n",
            "\u001b[?25hRequirement already satisfied: dask>=2.22.0 in /usr/local/lib/python3.10/dist-packages (from modin[all]) (2022.12.1)\n",
            "Collecting modin-spreadsheet>=0.1.0\n",
            "  Downloading modin_spreadsheet-0.1.2-py2.py3-none-any.whl (1.8 MB)\n",
            "\u001b[2K     \u001b[90m━━━━━━━━━━━━━━━━━━━━━━━━━━━━━━━━━━━━━━━━\u001b[0m \u001b[32m1.8/1.8 MB\u001b[0m \u001b[31m57.7 MB/s\u001b[0m eta \u001b[36m0:00:00\u001b[0m\n",
            "\u001b[?25hCollecting unidist[mpi]>=0.2.1\n",
            "  Downloading unidist-0.3.0-py3-none-any.whl (104 kB)\n",
            "\u001b[2K     \u001b[90m━━━━━━━━━━━━━━━━━━━━━━━━━━━━━━━━━━━━━━\u001b[0m \u001b[32m104.3/104.3 kB\u001b[0m \u001b[31m12.8 MB/s\u001b[0m eta \u001b[36m0:00:00\u001b[0m\n",
            "\u001b[?25hRequirement already satisfied: cloudpickle in /usr/local/lib/python3.10/dist-packages (from modin[all]) (2.2.1)\n",
            "Requirement already satisfied: python-dateutil>=2.8.1 in /usr/local/lib/python3.10/dist-packages (from pandas==1.5.3->modin[all]) (2.8.2)\n",
            "Requirement already satisfied: pytz>=2020.1 in /usr/local/lib/python3.10/dist-packages (from pandas==1.5.3->modin[all]) (2022.7.1)\n",
            "Collecting plumbum\n",
            "  Downloading plumbum-1.8.1-py3-none-any.whl (126 kB)\n",
            "\u001b[2K     \u001b[90m━━━━━━━━━━━━━━━━━━━━━━━━━━━━━━━━━━━━━━\u001b[0m \u001b[32m126.7/126.7 kB\u001b[0m \u001b[31m14.3 MB/s\u001b[0m eta \u001b[36m0:00:00\u001b[0m\n",
            "\u001b[?25hRequirement already satisfied: toolz>=0.8.2 in /usr/local/lib/python3.10/dist-packages (from dask>=2.22.0->modin[all]) (0.12.0)\n",
            "Requirement already satisfied: pyyaml>=5.3.1 in /usr/local/lib/python3.10/dist-packages (from dask>=2.22.0->modin[all]) (6.0)\n",
            "Requirement already satisfied: click>=7.0 in /usr/local/lib/python3.10/dist-packages (from dask>=2.22.0->modin[all]) (8.1.3)\n",
            "Requirement already satisfied: partd>=0.3.10 in /usr/local/lib/python3.10/dist-packages (from dask>=2.22.0->modin[all]) (1.4.0)\n",
            "Requirement already satisfied: jinja2 in /usr/local/lib/python3.10/dist-packages (from distributed>=2.22.0->modin[all]) (3.1.2)\n",
            "Requirement already satisfied: sortedcontainers!=2.0.0,!=2.0.1 in /usr/local/lib/python3.10/dist-packages (from distributed>=2.22.0->modin[all]) (2.4.0)\n",
            "Requirement already satisfied: msgpack>=0.6.0 in /usr/local/lib/python3.10/dist-packages (from distributed>=2.22.0->modin[all]) (1.0.5)\n",
            "Requirement already satisfied: locket>=1.0.0 in /usr/local/lib/python3.10/dist-packages (from distributed>=2.22.0->modin[all]) (1.0.0)\n",
            "Requirement already satisfied: urllib3 in /usr/local/lib/python3.10/dist-packages (from distributed>=2.22.0->modin[all]) (1.26.15)\n",
            "Requirement already satisfied: zict>=0.1.3 in /usr/local/lib/python3.10/dist-packages (from distributed>=2.22.0->modin[all]) (3.0.0)\n",
            "Requirement already satisfied: tblib>=1.6.0 in /usr/local/lib/python3.10/dist-packages (from distributed>=2.22.0->modin[all]) (1.7.0)\n",
            "Requirement already satisfied: tornado>=6.0.3 in /usr/local/lib/python3.10/dist-packages (from distributed>=2.22.0->modin[all]) (6.2)\n",
            "Collecting jupyter>=1.0.0\n",
            "  Downloading jupyter-1.0.0-py2.py3-none-any.whl (2.7 kB)\n",
            "Requirement already satisfied: ipywidgets>=7.0.0 in /usr/local/lib/python3.10/dist-packages (from modin-spreadsheet>=0.1.0->modin[all]) (7.7.1)\n",
            "Requirement already satisfied: notebook>=6.0.3 in /usr/local/lib/python3.10/dist-packages (from modin-spreadsheet>=0.1.0->modin[all]) (6.4.8)\n",
            "Requirement already satisfied: requests in /usr/local/lib/python3.10/dist-packages (from ray[default]>=1.13.0->modin[all]) (2.27.1)\n",
            "Collecting virtualenv<20.21.1,>=20.0.24\n",
            "  Downloading virtualenv-20.21.0-py3-none-any.whl (8.7 MB)\n",
            "\u001b[2K     \u001b[90m━━━━━━━━━━━━━━━━━━━━━━━━━━━━━━━━━━━━━━━━\u001b[0m \u001b[32m8.7/8.7 MB\u001b[0m \u001b[31m72.9 MB/s\u001b[0m eta \u001b[36m0:00:00\u001b[0m\n",
            "\u001b[?25hCollecting grpcio<=1.51.3,>=1.42.0\n",
            "  Downloading grpcio-1.51.3-cp310-cp310-manylinux_2_17_x86_64.manylinux2014_x86_64.whl (4.8 MB)\n",
            "\u001b[2K     \u001b[90m━━━━━━━━━━━━━━━━━━━━━━━━━━━━━━━━━━━━━━━━\u001b[0m \u001b[32m4.8/4.8 MB\u001b[0m \u001b[31m63.5 MB/s\u001b[0m eta \u001b[36m0:00:00\u001b[0m\n",
            "\u001b[?25hRequirement already satisfied: filelock in /usr/local/lib/python3.10/dist-packages (from ray[default]>=1.13.0->modin[all]) (3.12.0)\n",
            "Requirement already satisfied: protobuf!=3.19.5,>=3.15.3 in /usr/local/lib/python3.10/dist-packages (from ray[default]>=1.13.0->modin[all]) (3.20.3)\n",
            "Collecting frozenlist\n",
            "  Downloading frozenlist-1.3.3-cp310-cp310-manylinux_2_5_x86_64.manylinux1_x86_64.manylinux_2_17_x86_64.manylinux2014_x86_64.whl (149 kB)\n",
            "\u001b[2K     \u001b[90m━━━━━━━━━━━━━━━━━━━━━━━━━━━━━━━━━━━━━━\u001b[0m \u001b[32m149.6/149.6 kB\u001b[0m \u001b[31m16.1 MB/s\u001b[0m eta \u001b[36m0:00:00\u001b[0m\n",
            "\u001b[?25hRequirement already satisfied: attrs in /usr/local/lib/python3.10/dist-packages (from ray[default]>=1.13.0->modin[all]) (23.1.0)\n",
            "Requirement already satisfied: jsonschema in /usr/local/lib/python3.10/dist-packages (from ray[default]>=1.13.0->modin[all]) (4.3.3)\n",
            "Collecting aiosignal\n",
            "  Downloading aiosignal-1.3.1-py3-none-any.whl (7.6 kB)\n",
            "Collecting aiohttp-cors\n",
            "  Downloading aiohttp_cors-0.7.0-py3-none-any.whl (27 kB)\n",
            "Collecting colorful\n",
            "  Downloading colorful-0.5.5-py2.py3-none-any.whl (201 kB)\n",
            "\u001b[2K     \u001b[90m━━━━━━━━━━━━━━━━━━━━━━━━━━━━━━━━━━━━━━\u001b[0m \u001b[32m201.4/201.4 kB\u001b[0m \u001b[31m19.9 MB/s\u001b[0m eta \u001b[36m0:00:00\u001b[0m\n",
            "\u001b[?25hRequirement already satisfied: prometheus-client>=0.7.1 in /usr/local/lib/python3.10/dist-packages (from ray[default]>=1.13.0->modin[all]) (0.16.0)\n",
            "Collecting gpustat>=1.0.0\n",
            "  Downloading gpustat-1.1.tar.gz (97 kB)\n",
            "\u001b[2K     \u001b[90m━━━━━━━━━━━━━━━━━━━━━━━━━━━━━━━━━━━━━━━━\u001b[0m \u001b[32m97.9/97.9 kB\u001b[0m \u001b[31m11.4 MB/s\u001b[0m eta \u001b[36m0:00:00\u001b[0m\n",
            "\u001b[?25h  Installing build dependencies ... \u001b[?25l\u001b[?25hdone\n",
            "  Getting requirements to build wheel ... \u001b[?25l\u001b[?25hdone\n",
            "  Preparing metadata (pyproject.toml) ... \u001b[?25l\u001b[?25hdone\n",
            "Collecting opencensus\n",
            "  Downloading opencensus-0.11.2-py2.py3-none-any.whl (128 kB)\n",
            "\u001b[2K     \u001b[90m━━━━━━━━━━━━━━━━━━━━━━━━━━━━━━━━━━━━━━\u001b[0m \u001b[32m128.2/128.2 kB\u001b[0m \u001b[31m14.2 MB/s\u001b[0m eta \u001b[36m0:00:00\u001b[0m\n",
            "\u001b[?25hRequirement already satisfied: pydantic in /usr/local/lib/python3.10/dist-packages (from ray[default]>=1.13.0->modin[all]) (1.10.7)\n",
            "Requirement already satisfied: smart-open in /usr/local/lib/python3.10/dist-packages (from ray[default]>=1.13.0->modin[all]) (6.3.0)\n",
            "Collecting py-spy>=0.2.0\n",
            "  Downloading py_spy-0.3.14-py2.py3-none-manylinux_2_5_x86_64.manylinux1_x86_64.whl (3.0 MB)\n",
            "\u001b[2K     \u001b[90m━━━━━━━━━━━━━━━━━━━━━━━━━━━━━━━━━━━━━━━━\u001b[0m \u001b[32m3.0/3.0 MB\u001b[0m \u001b[31m85.0 MB/s\u001b[0m eta \u001b[36m0:00:00\u001b[0m\n",
            "\u001b[?25hCollecting aiohttp>=3.7\n",
            "  Downloading aiohttp-3.8.4-cp310-cp310-manylinux_2_17_x86_64.manylinux2014_x86_64.whl (1.0 MB)\n",
            "\u001b[2K     \u001b[90m━━━━━━━━━━━━━━━━━━━━━━━━━━━━━━━━━━━━━━━━\u001b[0m \u001b[32m1.0/1.0 MB\u001b[0m \u001b[31m62.9 MB/s\u001b[0m eta \u001b[36m0:00:00\u001b[0m\n",
            "\u001b[?25hCollecting mpi4py-mpich\n",
            "  Downloading mpi4py_mpich-3.1.2-cp310-cp310-manylinux_2_17_x86_64.manylinux2014_x86_64.whl (6.3 MB)\n",
            "\u001b[2K     \u001b[90m━━━━━━━━━━━━━━━━━━━━━━━━━━━━━━━━━━━━━━━━\u001b[0m \u001b[32m6.3/6.3 MB\u001b[0m \u001b[31m84.2 MB/s\u001b[0m eta \u001b[36m0:00:00\u001b[0m\n",
            "\u001b[?25hCollecting botocore<1.30.0,>=1.29.129\n",
            "  Downloading botocore-1.29.129-py3-none-any.whl (10.7 MB)\n",
            "\u001b[2K     \u001b[90m━━━━━━━━━━━━━━━━━━━━━━━━━━━━━━━━━━━━━━━━\u001b[0m \u001b[32m10.7/10.7 MB\u001b[0m \u001b[31m89.7 MB/s\u001b[0m eta \u001b[36m0:00:00\u001b[0m\n",
            "\u001b[?25hCollecting s3transfer<0.7.0,>=0.6.0\n",
            "  Downloading s3transfer-0.6.1-py3-none-any.whl (79 kB)\n",
            "\u001b[2K     \u001b[90m━━━━━━━━━━━━━━━━━━━━━━━━━━━━━━━━━━━━━━━━\u001b[0m \u001b[32m79.8/79.8 kB\u001b[0m \u001b[31m9.8 MB/s\u001b[0m eta \u001b[36m0:00:00\u001b[0m\n",
            "\u001b[?25hCollecting jmespath<2.0.0,>=0.7.1\n",
            "  Downloading jmespath-1.0.1-py3-none-any.whl (20 kB)\n",
            "Requirement already satisfied: charset-normalizer<4.0,>=2.0 in /usr/local/lib/python3.10/dist-packages (from aiohttp>=3.7->ray[default]>=1.13.0->modin[all]) (2.0.12)\n",
            "Collecting yarl<2.0,>=1.0\n",
            "  Downloading yarl-1.9.2-cp310-cp310-manylinux_2_17_x86_64.manylinux2014_x86_64.whl (268 kB)\n",
            "\u001b[2K     \u001b[90m━━━━━━━━━━━━━━━━━━━━━━━━━━━━━━━━━━━━━━\u001b[0m \u001b[32m268.8/268.8 kB\u001b[0m \u001b[31m25.0 MB/s\u001b[0m eta \u001b[36m0:00:00\u001b[0m\n",
            "\u001b[?25hCollecting multidict<7.0,>=4.5\n",
            "  Downloading multidict-6.0.4-cp310-cp310-manylinux_2_17_x86_64.manylinux2014_x86_64.whl (114 kB)\n",
            "\u001b[2K     \u001b[90m━━━━━━━━━━━━━━━━━━━━━━━━━━━━━━━━━━━━━━\u001b[0m \u001b[32m114.5/114.5 kB\u001b[0m \u001b[31m12.6 MB/s\u001b[0m eta \u001b[36m0:00:00\u001b[0m\n",
            "\u001b[?25hCollecting async-timeout<5.0,>=4.0.0a3\n",
            "  Downloading async_timeout-4.0.2-py3-none-any.whl (5.8 kB)\n",
            "Collecting nvidia-ml-py>=11.450.129\n",
            "  Downloading nvidia_ml_py-11.525.112-py3-none-any.whl (35 kB)\n",
            "Collecting blessed>=1.17.1\n",
            "  Downloading blessed-1.20.0-py2.py3-none-any.whl (58 kB)\n",
            "\u001b[2K     \u001b[90m━━━━━━━━━━━━━━━━━━━━━━━━━━━━━━━━━━━━━━━━\u001b[0m \u001b[32m58.4/58.4 kB\u001b[0m \u001b[31m6.6 MB/s\u001b[0m eta \u001b[36m0:00:00\u001b[0m\n",
            "\u001b[?25hRequirement already satisfied: ipython-genutils~=0.2.0 in /usr/local/lib/python3.10/dist-packages (from ipywidgets>=7.0.0->modin-spreadsheet>=0.1.0->modin[all]) (0.2.0)\n",
            "Requirement already satisfied: traitlets>=4.3.1 in /usr/local/lib/python3.10/dist-packages (from ipywidgets>=7.0.0->modin-spreadsheet>=0.1.0->modin[all]) (5.7.1)\n",
            "Requirement already satisfied: widgetsnbextension~=3.6.0 in /usr/local/lib/python3.10/dist-packages (from ipywidgets>=7.0.0->modin-spreadsheet>=0.1.0->modin[all]) (3.6.4)\n",
            "Requirement already satisfied: ipykernel>=4.5.1 in /usr/local/lib/python3.10/dist-packages (from ipywidgets>=7.0.0->modin-spreadsheet>=0.1.0->modin[all]) (5.5.6)\n",
            "Requirement already satisfied: ipython>=4.0.0 in /usr/local/lib/python3.10/dist-packages (from ipywidgets>=7.0.0->modin-spreadsheet>=0.1.0->modin[all]) (7.34.0)\n",
            "Requirement already satisfied: jupyterlab-widgets>=1.0.0 in /usr/local/lib/python3.10/dist-packages (from ipywidgets>=7.0.0->modin-spreadsheet>=0.1.0->modin[all]) (3.0.7)\n",
            "Collecting qtconsole\n",
            "  Downloading qtconsole-5.4.3-py3-none-any.whl (121 kB)\n",
            "\u001b[2K     \u001b[90m━━━━━━━━━━━━━━━━━━━━━━━━━━━━━━━━━━━━━━\u001b[0m \u001b[32m121.9/121.9 kB\u001b[0m \u001b[31m13.7 MB/s\u001b[0m eta \u001b[36m0:00:00\u001b[0m\n",
            "\u001b[?25hRequirement already satisfied: nbconvert in /usr/local/lib/python3.10/dist-packages (from jupyter>=1.0.0->modin-spreadsheet>=0.1.0->modin[all]) (6.5.4)\n",
            "Requirement already satisfied: jupyter-console in /usr/local/lib/python3.10/dist-packages (from jupyter>=1.0.0->modin-spreadsheet>=0.1.0->modin[all]) (6.1.0)\n",
            "Requirement already satisfied: pyzmq>=17 in /usr/local/lib/python3.10/dist-packages (from notebook>=6.0.3->modin-spreadsheet>=0.1.0->modin[all]) (23.2.1)\n",
            "Requirement already satisfied: nest-asyncio>=1.5 in /usr/local/lib/python3.10/dist-packages (from notebook>=6.0.3->modin-spreadsheet>=0.1.0->modin[all]) (1.5.6)\n",
            "Requirement already satisfied: terminado>=0.8.3 in /usr/local/lib/python3.10/dist-packages (from notebook>=6.0.3->modin-spreadsheet>=0.1.0->modin[all]) (0.17.1)\n",
            "Requirement already satisfied: jupyter-core>=4.6.1 in /usr/local/lib/python3.10/dist-packages (from notebook>=6.0.3->modin-spreadsheet>=0.1.0->modin[all]) (5.3.0)\n",
            "Requirement already satisfied: jupyter-client>=5.3.4 in /usr/local/lib/python3.10/dist-packages (from notebook>=6.0.3->modin-spreadsheet>=0.1.0->modin[all]) (6.1.12)\n",
            "Requirement already satisfied: Send2Trash>=1.8.0 in /usr/local/lib/python3.10/dist-packages (from notebook>=6.0.3->modin-spreadsheet>=0.1.0->modin[all]) (1.8.0)\n",
            "Requirement already satisfied: argon2-cffi in /usr/local/lib/python3.10/dist-packages (from notebook>=6.0.3->modin-spreadsheet>=0.1.0->modin[all]) (21.3.0)\n",
            "Requirement already satisfied: nbformat in /usr/local/lib/python3.10/dist-packages (from notebook>=6.0.3->modin-spreadsheet>=0.1.0->modin[all]) (5.8.0)\n",
            "Requirement already satisfied: six>=1.5 in /usr/local/lib/python3.10/dist-packages (from python-dateutil>=2.8.1->pandas==1.5.3->modin[all]) (1.16.0)\n",
            "Collecting distlib<1,>=0.3.6\n",
            "  Downloading distlib-0.3.6-py2.py3-none-any.whl (468 kB)\n",
            "\u001b[2K     \u001b[90m━━━━━━━━━━━━━━━━━━━━━━━━━━━━━━━━━━━━━━\u001b[0m \u001b[32m468.5/468.5 kB\u001b[0m \u001b[31m32.7 MB/s\u001b[0m eta \u001b[36m0:00:00\u001b[0m\n",
            "\u001b[?25hRequirement already satisfied: platformdirs<4,>=2.4 in /usr/local/lib/python3.10/dist-packages (from virtualenv<20.21.1,>=20.0.24->ray[default]>=1.13.0->modin[all]) (3.3.0)\n",
            "Requirement already satisfied: MarkupSafe>=2.0 in /usr/local/lib/python3.10/dist-packages (from jinja2->distributed>=2.22.0->modin[all]) (2.1.2)\n",
            "Requirement already satisfied: pyrsistent!=0.17.0,!=0.17.1,!=0.17.2,>=0.14.0 in /usr/local/lib/python3.10/dist-packages (from jsonschema->ray[default]>=1.13.0->modin[all]) (0.19.3)\n",
            "Requirement already satisfied: google-api-core<3.0.0,>=1.0.0 in /usr/local/lib/python3.10/dist-packages (from opencensus->ray[default]>=1.13.0->modin[all]) (2.11.0)\n",
            "Collecting opencensus-context>=0.1.3\n",
            "  Downloading opencensus_context-0.1.3-py2.py3-none-any.whl (5.1 kB)\n",
            "Requirement already satisfied: typing-extensions>=4.2.0 in /usr/local/lib/python3.10/dist-packages (from pydantic->ray[default]>=1.13.0->modin[all]) (4.5.0)\n",
            "Requirement already satisfied: idna<4,>=2.5 in /usr/local/lib/python3.10/dist-packages (from requests->ray[default]>=1.13.0->modin[all]) (3.4)\n",
            "Requirement already satisfied: certifi>=2017.4.17 in /usr/local/lib/python3.10/dist-packages (from requests->ray[default]>=1.13.0->modin[all]) (2022.12.7)\n",
            "Requirement already satisfied: wcwidth>=0.1.4 in /usr/local/lib/python3.10/dist-packages (from blessed>=1.17.1->gpustat>=1.0.0->ray[default]>=1.13.0->modin[all]) (0.2.6)\n",
            "Requirement already satisfied: google-auth<3.0dev,>=2.14.1 in /usr/local/lib/python3.10/dist-packages (from google-api-core<3.0.0,>=1.0.0->opencensus->ray[default]>=1.13.0->modin[all]) (2.17.3)\n",
            "Requirement already satisfied: googleapis-common-protos<2.0dev,>=1.56.2 in /usr/local/lib/python3.10/dist-packages (from google-api-core<3.0.0,>=1.0.0->opencensus->ray[default]>=1.13.0->modin[all]) (1.59.0)\n",
            "Requirement already satisfied: backcall in /usr/local/lib/python3.10/dist-packages (from ipython>=4.0.0->ipywidgets>=7.0.0->modin-spreadsheet>=0.1.0->modin[all]) (0.2.0)\n",
            "Requirement already satisfied: setuptools>=18.5 in /usr/local/lib/python3.10/dist-packages (from ipython>=4.0.0->ipywidgets>=7.0.0->modin-spreadsheet>=0.1.0->modin[all]) (67.7.2)\n",
            "Collecting jedi>=0.16\n",
            "  Downloading jedi-0.18.2-py2.py3-none-any.whl (1.6 MB)\n",
            "\u001b[2K     \u001b[90m━━━━━━━━━━━━━━━━━━━━━━━━━━━━━━━━━━━━━━━━\u001b[0m \u001b[32m1.6/1.6 MB\u001b[0m \u001b[31m74.5 MB/s\u001b[0m eta \u001b[36m0:00:00\u001b[0m\n",
            "\u001b[?25hRequirement already satisfied: pygments in /usr/local/lib/python3.10/dist-packages (from ipython>=4.0.0->ipywidgets>=7.0.0->modin-spreadsheet>=0.1.0->modin[all]) (2.14.0)\n",
            "Requirement already satisfied: pexpect>4.3 in /usr/local/lib/python3.10/dist-packages (from ipython>=4.0.0->ipywidgets>=7.0.0->modin-spreadsheet>=0.1.0->modin[all]) (4.8.0)\n",
            "Requirement already satisfied: decorator in /usr/local/lib/python3.10/dist-packages (from ipython>=4.0.0->ipywidgets>=7.0.0->modin-spreadsheet>=0.1.0->modin[all]) (4.4.2)\n",
            "Requirement already satisfied: matplotlib-inline in /usr/local/lib/python3.10/dist-packages (from ipython>=4.0.0->ipywidgets>=7.0.0->modin-spreadsheet>=0.1.0->modin[all]) (0.1.6)\n",
            "Requirement already satisfied: pickleshare in /usr/local/lib/python3.10/dist-packages (from ipython>=4.0.0->ipywidgets>=7.0.0->modin-spreadsheet>=0.1.0->modin[all]) (0.7.5)\n",
            "Requirement already satisfied: prompt-toolkit!=3.0.0,!=3.0.1,<3.1.0,>=2.0.0 in /usr/local/lib/python3.10/dist-packages (from ipython>=4.0.0->ipywidgets>=7.0.0->modin-spreadsheet>=0.1.0->modin[all]) (3.0.38)\n",
            "Requirement already satisfied: ptyprocess in /usr/local/lib/python3.10/dist-packages (from terminado>=0.8.3->notebook>=6.0.3->modin-spreadsheet>=0.1.0->modin[all]) (0.7.0)\n",
            "Requirement already satisfied: argon2-cffi-bindings in /usr/local/lib/python3.10/dist-packages (from argon2-cffi->notebook>=6.0.3->modin-spreadsheet>=0.1.0->modin[all]) (21.2.0)\n",
            "Requirement already satisfied: tinycss2 in /usr/local/lib/python3.10/dist-packages (from nbconvert->jupyter>=1.0.0->modin-spreadsheet>=0.1.0->modin[all]) (1.2.1)\n",
            "Requirement already satisfied: beautifulsoup4 in /usr/local/lib/python3.10/dist-packages (from nbconvert->jupyter>=1.0.0->modin-spreadsheet>=0.1.0->modin[all]) (4.11.2)\n",
            "Requirement already satisfied: pandocfilters>=1.4.1 in /usr/local/lib/python3.10/dist-packages (from nbconvert->jupyter>=1.0.0->modin-spreadsheet>=0.1.0->modin[all]) (1.5.0)\n",
            "Requirement already satisfied: lxml in /usr/local/lib/python3.10/dist-packages (from nbconvert->jupyter>=1.0.0->modin-spreadsheet>=0.1.0->modin[all]) (4.9.2)\n",
            "Requirement already satisfied: jupyterlab-pygments in /usr/local/lib/python3.10/dist-packages (from nbconvert->jupyter>=1.0.0->modin-spreadsheet>=0.1.0->modin[all]) (0.2.2)\n",
            "Requirement already satisfied: bleach in /usr/local/lib/python3.10/dist-packages (from nbconvert->jupyter>=1.0.0->modin-spreadsheet>=0.1.0->modin[all]) (6.0.0)\n",
            "Requirement already satisfied: mistune<2,>=0.8.1 in /usr/local/lib/python3.10/dist-packages (from nbconvert->jupyter>=1.0.0->modin-spreadsheet>=0.1.0->modin[all]) (0.8.4)\n",
            "Requirement already satisfied: entrypoints>=0.2.2 in /usr/local/lib/python3.10/dist-packages (from nbconvert->jupyter>=1.0.0->modin-spreadsheet>=0.1.0->modin[all]) (0.4)\n",
            "Requirement already satisfied: nbclient>=0.5.0 in /usr/local/lib/python3.10/dist-packages (from nbconvert->jupyter>=1.0.0->modin-spreadsheet>=0.1.0->modin[all]) (0.7.4)\n",
            "Requirement already satisfied: defusedxml in /usr/local/lib/python3.10/dist-packages (from nbconvert->jupyter>=1.0.0->modin-spreadsheet>=0.1.0->modin[all]) (0.7.1)\n",
            "Requirement already satisfied: fastjsonschema in /usr/local/lib/python3.10/dist-packages (from nbformat->notebook>=6.0.3->modin-spreadsheet>=0.1.0->modin[all]) (2.16.3)\n",
            "Collecting qtpy>=2.0.1\n",
            "  Downloading QtPy-2.3.1-py3-none-any.whl (84 kB)\n",
            "\u001b[2K     \u001b[90m━━━━━━━━━━━━━━━━━━━━━━━━━━━━━━━━━━━━━━━━\u001b[0m \u001b[32m84.9/84.9 kB\u001b[0m \u001b[31m10.8 MB/s\u001b[0m eta \u001b[36m0:00:00\u001b[0m\n",
            "\u001b[?25hRequirement already satisfied: pyasn1-modules>=0.2.1 in /usr/local/lib/python3.10/dist-packages (from google-auth<3.0dev,>=2.14.1->google-api-core<3.0.0,>=1.0.0->opencensus->ray[default]>=1.13.0->modin[all]) (0.3.0)\n",
            "Requirement already satisfied: cachetools<6.0,>=2.0.0 in /usr/local/lib/python3.10/dist-packages (from google-auth<3.0dev,>=2.14.1->google-api-core<3.0.0,>=1.0.0->opencensus->ray[default]>=1.13.0->modin[all]) (5.3.0)\n",
            "Requirement already satisfied: rsa<5,>=3.1.4 in /usr/local/lib/python3.10/dist-packages (from google-auth<3.0dev,>=2.14.1->google-api-core<3.0.0,>=1.0.0->opencensus->ray[default]>=1.13.0->modin[all]) (4.9)\n",
            "Requirement already satisfied: parso<0.9.0,>=0.8.0 in /usr/local/lib/python3.10/dist-packages (from jedi>=0.16->ipython>=4.0.0->ipywidgets>=7.0.0->modin-spreadsheet>=0.1.0->modin[all]) (0.8.3)\n",
            "Requirement already satisfied: cffi>=1.0.1 in /usr/local/lib/python3.10/dist-packages (from argon2-cffi-bindings->argon2-cffi->notebook>=6.0.3->modin-spreadsheet>=0.1.0->modin[all]) (1.15.1)\n",
            "Requirement already satisfied: soupsieve>1.2 in /usr/local/lib/python3.10/dist-packages (from beautifulsoup4->nbconvert->jupyter>=1.0.0->modin-spreadsheet>=0.1.0->modin[all]) (2.4.1)\n",
            "Requirement already satisfied: webencodings in /usr/local/lib/python3.10/dist-packages (from bleach->nbconvert->jupyter>=1.0.0->modin-spreadsheet>=0.1.0->modin[all]) (0.5.1)\n",
            "Requirement already satisfied: pycparser in /usr/local/lib/python3.10/dist-packages (from cffi>=1.0.1->argon2-cffi-bindings->argon2-cffi->notebook>=6.0.3->modin-spreadsheet>=0.1.0->modin[all]) (2.21)\n",
            "Requirement already satisfied: pyasn1<0.6.0,>=0.4.6 in /usr/local/lib/python3.10/dist-packages (from pyasn1-modules>=0.2.1->google-auth<3.0dev,>=2.14.1->google-api-core<3.0.0,>=1.0.0->opencensus->ray[default]>=1.13.0->modin[all]) (0.5.0)\n",
            "Building wheels for collected packages: gpustat\n",
            "  Building wheel for gpustat (pyproject.toml) ... \u001b[?25l\u001b[?25hdone\n",
            "  Created wheel for gpustat: filename=gpustat-1.1-py3-none-any.whl size=26298 sha256=957e34d9a281990cec63ce1f4f8d2af26ba0aadf03e99af7469a0521539ba060\n",
            "  Stored in directory: /root/.cache/pip/wheels/ee/d0/2c/1e02440645c2318ba03aea99993a44a9108dc8f74de0bd370b\n",
            "Successfully built gpustat\n",
            "Installing collected packages: py-spy, opencensus-context, nvidia-ml-py, distlib, colorful, virtualenv, unidist, qtpy, plumbum, multidict, mpi4py-mpich, jmespath, jedi, grpcio, frozenlist, blessed, async-timeout, yarl, rpyc, gpustat, botocore, aiosignal, s3transfer, ray, modin, aiohttp, qtconsole, opencensus, boto3, aiohttp-cors, jupyter, modin-spreadsheet\n",
            "  Attempting uninstall: grpcio\n",
            "    Found existing installation: grpcio 1.54.0\n",
            "    Uninstalling grpcio-1.54.0:\n",
            "      Successfully uninstalled grpcio-1.54.0\n",
            "Successfully installed aiohttp-3.8.4 aiohttp-cors-0.7.0 aiosignal-1.3.1 async-timeout-4.0.2 blessed-1.20.0 boto3-1.26.129 botocore-1.29.129 colorful-0.5.5 distlib-0.3.6 frozenlist-1.3.3 gpustat-1.1 grpcio-1.51.3 jedi-0.18.2 jmespath-1.0.1 jupyter-1.0.0 modin-0.20.1 modin-spreadsheet-0.1.2 mpi4py-mpich-3.1.2 multidict-6.0.4 nvidia-ml-py-11.525.112 opencensus-0.11.2 opencensus-context-0.1.3 plumbum-1.8.1 py-spy-0.3.14 qtconsole-5.4.3 qtpy-2.3.1 ray-2.4.0 rpyc-4.1.5 s3transfer-0.6.1 unidist-0.3.0 virtualenv-20.21.0 yarl-1.9.2\n"
          ]
        }
      ]
    },
    {
      "cell_type": "code",
      "execution_count": 3,
      "metadata": {
        "id": "Ng2Jx1Dudego"
      },
      "outputs": [],
      "source": [
        "#import pandas as pd\n",
        "import modin.pandas as pd"
      ]
    },
    {
      "cell_type": "code",
      "source": [
        "df=pd.read_csv(\"/content/drive/MyDrive/Intel Challenge/training_data_sentiment.csv\")"
      ],
      "metadata": {
        "id": "1mluU0HMd92z",
        "colab": {
          "base_uri": "https://localhost:8080/"
        },
        "outputId": "70ca3017-6876-48e6-a103-7eb72fbda399"
      },
      "execution_count": 4,
      "outputs": [
        {
          "output_type": "stream",
          "name": "stderr",
          "text": [
            "2023-05-05 22:56:04,432\tINFO worker.py:1625 -- Started a local Ray instance.\n"
          ]
        }
      ]
    },
    {
      "cell_type": "code",
      "source": [
        "df.head()"
      ],
      "metadata": {
        "colab": {
          "base_uri": "https://localhost:8080/",
          "height": 677
        },
        "id": "kXPYJGqVeB7v",
        "outputId": "4d32b954-4502-456e-d51d-fbd9ccbf7416"
      },
      "execution_count": 5,
      "outputs": [
        {
          "output_type": "execute_result",
          "data": {
            "text/plain": [
              "       IDLink                                              Title  \\\n",
              "0  Tr3CMgRv1N   Obama Lays Wreath at Arlington National Cemetery   \n",
              "1  Wc81vGp8qZ        A Look at the Health of the Chinese Economy   \n",
              "2  zNGH03CrZH   Nouriel Roubini: Global Economy Not Back to 2008   \n",
              "3  3sM1H0W8ts                          Finland GDP Expands In Q4   \n",
              "4  wUbnxgvqaZ  Tourism, govt spending buoys Thai economy in J...   \n",
              "\n",
              "                                            Headline  \\\n",
              "0  Obama Lays Wreath at Arlington National Cemete...   \n",
              "1  Tim Haywood, investment director business-unit...   \n",
              "2  Nouriel Roubini, NYU professor and chairman at...   \n",
              "3  Finland's economy expanded marginally in the t...   \n",
              "4  Tourism and public spending continued to boost...   \n",
              "\n",
              "                                     Source    Topic       PublishDate  \\\n",
              "0                                 USA TODAY    obama  02-04-2002 00:00   \n",
              "1                                 Bloomberg  economy  20-09-2008 00:00   \n",
              "2                                 Bloomberg  economy  28-01-2012 00:00   \n",
              "3                                  RTT News  economy  01-03-2015 00:06   \n",
              "4  The Nation - Thailand&#39;s English news  economy  01-03-2015 00:11   \n",
              "\n",
              "   Facebook  GooglePlus  LinkedIn  SentimentTitle  SentimentHeadline  \n",
              "0        -1          -1        -1        0.000000          -0.053300  \n",
              "1        -1          -1        -1        0.208333          -0.156386  \n",
              "2        -1          -1        -1       -0.425210           0.139754  \n",
              "3        -1          -1        -1        0.000000           0.026064  \n",
              "4        -1          -1        -1        0.000000           0.141084  "
            ],
            "text/html": [
              "<div>\n",
              "<style scoped>\n",
              "    .dataframe tbody tr th:only-of-type {\n",
              "        vertical-align: middle;\n",
              "    }\n",
              "\n",
              "    .dataframe tbody tr th {\n",
              "        vertical-align: top;\n",
              "    }\n",
              "\n",
              "    .dataframe thead th {\n",
              "        text-align: right;\n",
              "    }\n",
              "</style>\n",
              "<table border=\"1\" class=\"dataframe\">\n",
              "  <thead>\n",
              "    <tr style=\"text-align: right;\">\n",
              "      <th></th>\n",
              "      <th>IDLink</th>\n",
              "      <th>Title</th>\n",
              "      <th>Headline</th>\n",
              "      <th>Source</th>\n",
              "      <th>Topic</th>\n",
              "      <th>PublishDate</th>\n",
              "      <th>Facebook</th>\n",
              "      <th>GooglePlus</th>\n",
              "      <th>LinkedIn</th>\n",
              "      <th>SentimentTitle</th>\n",
              "      <th>SentimentHeadline</th>\n",
              "    </tr>\n",
              "  </thead>\n",
              "  <tbody>\n",
              "    <tr>\n",
              "      <th>0</th>\n",
              "      <td>Tr3CMgRv1N</td>\n",
              "      <td>Obama Lays Wreath at Arlington National Cemetery</td>\n",
              "      <td>Obama Lays Wreath at Arlington National Cemete...</td>\n",
              "      <td>USA TODAY</td>\n",
              "      <td>obama</td>\n",
              "      <td>02-04-2002 00:00</td>\n",
              "      <td>-1</td>\n",
              "      <td>-1</td>\n",
              "      <td>-1</td>\n",
              "      <td>0.000000</td>\n",
              "      <td>-0.053300</td>\n",
              "    </tr>\n",
              "    <tr>\n",
              "      <th>1</th>\n",
              "      <td>Wc81vGp8qZ</td>\n",
              "      <td>A Look at the Health of the Chinese Economy</td>\n",
              "      <td>Tim Haywood, investment director business-unit...</td>\n",
              "      <td>Bloomberg</td>\n",
              "      <td>economy</td>\n",
              "      <td>20-09-2008 00:00</td>\n",
              "      <td>-1</td>\n",
              "      <td>-1</td>\n",
              "      <td>-1</td>\n",
              "      <td>0.208333</td>\n",
              "      <td>-0.156386</td>\n",
              "    </tr>\n",
              "    <tr>\n",
              "      <th>2</th>\n",
              "      <td>zNGH03CrZH</td>\n",
              "      <td>Nouriel Roubini: Global Economy Not Back to 2008</td>\n",
              "      <td>Nouriel Roubini, NYU professor and chairman at...</td>\n",
              "      <td>Bloomberg</td>\n",
              "      <td>economy</td>\n",
              "      <td>28-01-2012 00:00</td>\n",
              "      <td>-1</td>\n",
              "      <td>-1</td>\n",
              "      <td>-1</td>\n",
              "      <td>-0.425210</td>\n",
              "      <td>0.139754</td>\n",
              "    </tr>\n",
              "    <tr>\n",
              "      <th>3</th>\n",
              "      <td>3sM1H0W8ts</td>\n",
              "      <td>Finland GDP Expands In Q4</td>\n",
              "      <td>Finland's economy expanded marginally in the t...</td>\n",
              "      <td>RTT News</td>\n",
              "      <td>economy</td>\n",
              "      <td>01-03-2015 00:06</td>\n",
              "      <td>-1</td>\n",
              "      <td>-1</td>\n",
              "      <td>-1</td>\n",
              "      <td>0.000000</td>\n",
              "      <td>0.026064</td>\n",
              "    </tr>\n",
              "    <tr>\n",
              "      <th>4</th>\n",
              "      <td>wUbnxgvqaZ</td>\n",
              "      <td>Tourism, govt spending buoys Thai economy in J...</td>\n",
              "      <td>Tourism and public spending continued to boost...</td>\n",
              "      <td>The Nation - Thailand&amp;#39;s English news</td>\n",
              "      <td>economy</td>\n",
              "      <td>01-03-2015 00:11</td>\n",
              "      <td>-1</td>\n",
              "      <td>-1</td>\n",
              "      <td>-1</td>\n",
              "      <td>0.000000</td>\n",
              "      <td>0.141084</td>\n",
              "    </tr>\n",
              "  </tbody>\n",
              "</table>\n",
              "</div>"
            ]
          },
          "metadata": {},
          "execution_count": 5
        }
      ]
    },
    {
      "cell_type": "code",
      "source": [
        "import numpy as np"
      ],
      "metadata": {
        "id": "v4_MqwXcgXW7"
      },
      "execution_count": 6,
      "outputs": []
    },
    {
      "cell_type": "code",
      "source": [
        "headline = list(df['Headline'])\n",
        "title = list(df['Title'])"
      ],
      "metadata": {
        "id": "OfhRjwDXyBDH"
      },
      "execution_count": 7,
      "outputs": []
    },
    {
      "cell_type": "code",
      "source": [
        "print(title[1])\n",
        "print(headline[1])"
      ],
      "metadata": {
        "id": "w1MC3Y9qyGLD",
        "colab": {
          "base_uri": "https://localhost:8080/"
        },
        "outputId": "44800343-bdbc-43cf-8796-9a9c90bd5d17"
      },
      "execution_count": 8,
      "outputs": [
        {
          "output_type": "stream",
          "name": "stdout",
          "text": [
            "A Look at the Health of the Chinese Economy\n",
            "Tim Haywood, investment director business-unit head for fixed income at Gam, discusses the China beige book and the state of the economy.\n"
          ]
        }
      ]
    },
    {
      "cell_type": "code",
      "source": [
        "print(len(title))\n",
        "print(len(headline))\n"
      ],
      "metadata": {
        "colab": {
          "base_uri": "https://localhost:8080/"
        },
        "id": "ZeElK2bGyM8i",
        "outputId": "c3ea61fe-35ea-4764-dfaa-285120a813d9"
      },
      "execution_count": 9,
      "outputs": [
        {
          "output_type": "stream",
          "name": "stdout",
          "text": [
            "40508\n",
            "40508\n"
          ]
        }
      ]
    },
    {
      "cell_type": "markdown",
      "source": [
        "# **Convert words of the sentence into features using Word2Vec** \n",
        " Word embeddings is a technique where individual words are transformed into a numerical representation of the word (a vector). Where each word is mapped to one vector, this vector is then learned in a way which resembles a neural network.The effectiveness of Word2Vec comes from its ability to group together vectors of similar words. Given a large enough dataset, Word2Vec can make strong estimates about a word’s meaning based on their occurrences in the text."
      ],
      "metadata": {
        "id": "FT9gbBwEwnL1"
      }
    },
    {
      "cell_type": "code",
      "source": [
        "import gensim.downloader as api\n",
        "\n",
        "info = api.info()  # show info about available models/datasets\n",
        "model = api.load(\"word2vec-google-news-300\") "
      ],
      "metadata": {
        "colab": {
          "base_uri": "https://localhost:8080/"
        },
        "id": "2VST7S3LgXZ4",
        "outputId": "715bee2a-4844-40ab-f80f-57b301f1eb66"
      },
      "execution_count": null,
      "outputs": [
        {
          "output_type": "stream",
          "name": "stdout",
          "text": [
            "[=================================================-] 99.9% 1661.6/1662.8MB downloaded\n"
          ]
        }
      ]
    },
    {
      "cell_type": "code",
      "source": [
        "import nltk\n",
        "nltk.download('punkt')\n",
        "\n",
        "title_words = [ nltk.word_tokenize(sent.lower()) for sent in title]\n",
        "\n",
        "headline_words = [nltk.word_tokenize(sent.lower()) for sent in headline]"
      ],
      "metadata": {
        "colab": {
          "base_uri": "https://localhost:8080/"
        },
        "id": "K753rKUaejai",
        "outputId": "f269b7b5-4096-463d-881c-4b391a5c1910"
      },
      "execution_count": null,
      "outputs": [
        {
          "output_type": "stream",
          "name": "stderr",
          "text": [
            "[nltk_data] Downloading package punkt to /root/nltk_data...\n",
            "[nltk_data]   Package punkt is already up-to-date!\n"
          ]
        }
      ]
    },
    {
      "cell_type": "markdown",
      "source": [
        "# ***Remove Stopwords***"
      ],
      "metadata": {
        "id": "N5-UbEamwwDR"
      }
    },
    {
      "cell_type": "markdown",
      "source": [
        "**From title**"
      ],
      "metadata": {
        "id": "OCZdmhe8Ccxs"
      }
    },
    {
      "cell_type": "code",
      "source": [
        "from nltk.corpus import stopwords\n",
        "nltk.download('stopwords')\n",
        "\n",
        "stop_words = set(stopwords.words('english'))\n",
        "\n",
        "Sem_Words_title=[]\n",
        "Sub_List_title=[]\n",
        "for sent in title_words:\n",
        "  for word in sent:\n",
        "    if word not in stop_words and word.isalnum():\n",
        "      Sub_List_title.append(word)\n",
        "  Sem_Words_title.append(Sub_List_title)\n",
        "  Sub_List_title=[]"
      ],
      "metadata": {
        "colab": {
          "base_uri": "https://localhost:8080/"
        },
        "id": "Vtmw5mpUejdR",
        "outputId": "109224e8-edd9-4109-c0ff-7b9290bedbb2"
      },
      "execution_count": null,
      "outputs": [
        {
          "output_type": "stream",
          "name": "stderr",
          "text": [
            "[nltk_data] Downloading package stopwords to /root/nltk_data...\n",
            "[nltk_data]   Package stopwords is already up-to-date!\n"
          ]
        }
      ]
    },
    {
      "cell_type": "markdown",
      "source": [
        "**From Heading**"
      ],
      "metadata": {
        "id": "9jzNSWfyDOFb"
      }
    },
    {
      "cell_type": "code",
      "source": [
        "Sem_Words_head=[]\n",
        "Sub_List_head=[]\n",
        "for sent in headline_words:\n",
        "  for word in sent:\n",
        "    if word not in stop_words and word.isalnum():\n",
        "      Sub_List_head.append(word)\n",
        "  Sem_Words_head.append(Sub_List_head)\n",
        "  Sub_List_head=[]"
      ],
      "metadata": {
        "id": "R3DGN76dCW2s"
      },
      "execution_count": null,
      "outputs": []
    },
    {
      "cell_type": "markdown",
      "source": [
        "# ***Create Sentence embedding from word embeddings*** - \n",
        "\n",
        "\n",
        "\n"
      ],
      "metadata": {
        "id": "vWBXVJJfw2dd"
      }
    },
    {
      "cell_type": "markdown",
      "source": [
        "**From Title**"
      ],
      "metadata": {
        "id": "K6Mmgb8dDSUL"
      }
    },
    {
      "cell_type": "code",
      "source": [
        "word_vectors_mat_title=[]\n",
        "for sent in Sem_Words_title:\n",
        "  i=0\n",
        "  if len(sent)>18 :\n",
        "   word_vectors = [model[sent[i]] for i in range(18) if sent[i] in model.key_to_index]\n",
        "  else:\n",
        "   word_vectors = [model[words] for words in sent if words in model.key_to_index]\n",
        "  word_vectors_mat_title.append(word_vectors)\n",
        "  word_vectors=[]"
      ],
      "metadata": {
        "id": "h_HGQFpJrVgq"
      },
      "execution_count": null,
      "outputs": []
    },
    {
      "cell_type": "code",
      "source": [
        "print(len(word_vectors_mat_title[1][1]))"
      ],
      "metadata": {
        "colab": {
          "base_uri": "https://localhost:8080/"
        },
        "id": "ER3DXnCumupN",
        "outputId": "ae1366e0-8143-4785-cb2a-30defb4e05df"
      },
      "execution_count": null,
      "outputs": [
        {
          "output_type": "stream",
          "name": "stdout",
          "text": [
            "300\n"
          ]
        }
      ]
    },
    {
      "cell_type": "code",
      "source": [
        "sentence_embedding_mat_title=[]\n",
        "for word_vectors in word_vectors_mat_title:\n",
        "  \n",
        "  sentence_embedding = [np.mean(word_vectors) for words in word_vectors]\n",
        "  sentence_embedding_mat_title.append(sentence_embedding)\n",
        "\n",
        "sentence_embedding_mat_title=np.array(sentence_embedding_mat_title)"
      ],
      "metadata": {
        "id": "23DABAminQnh",
        "colab": {
          "base_uri": "https://localhost:8080/"
        },
        "outputId": "cc0e22c9-978b-4502-9ffb-d984d8f3c060"
      },
      "execution_count": null,
      "outputs": [
        {
          "output_type": "stream",
          "name": "stderr",
          "text": [
            "VisibleDeprecationWarning: Creating an ndarray from ragged nested sequences (which is a list-or-tuple of lists-or-tuples-or ndarrays with different lengths or shapes) is deprecated. If you meant to do this, you must specify 'dtype=object' when creating the ndarray.\n"
          ]
        }
      ]
    },
    {
      "cell_type": "markdown",
      "source": [
        "**From Headline**"
      ],
      "metadata": {
        "id": "QQeSoVHuDlUy"
      }
    },
    {
      "cell_type": "code",
      "source": [
        "word_vectors_mat_head=[]\n",
        "for sent in Sem_Words_head:\n",
        "  i=0\n",
        "  if len(sent)>48 :\n",
        "   word_vectors = [model[sent[i]] for i in range(48) if sent[i] in model.key_to_index]\n",
        "  else:\n",
        "   word_vectors = [model[words] for words in sent if words in model.key_to_index]\n",
        "  word_vectors_mat_head.append(word_vectors)\n",
        "  word_vectors=[]"
      ],
      "metadata": {
        "id": "avTr6t7rDhXS"
      },
      "execution_count": null,
      "outputs": []
    },
    {
      "cell_type": "code",
      "source": [
        "sentence_embedding_mat_head=[]\n",
        "for word_vectors in word_vectors_mat_head:\n",
        "  \n",
        "  sentence_embedding = [np.mean(word_vectors) for words in word_vectors]\n",
        "  sentence_embedding_mat_head.append(sentence_embedding)\n",
        "\n",
        "sentence_embedding_mat_head=np.array(sentence_embedding_mat_head)"
      ],
      "metadata": {
        "id": "5sLrX_uCEFJi"
      },
      "execution_count": null,
      "outputs": []
    },
    {
      "cell_type": "code",
      "source": [
        "print(sentence_embedding_mat_head[15423])"
      ],
      "metadata": {
        "id": "cznXG4EHejiV"
      },
      "execution_count": null,
      "outputs": []
    },
    {
      "cell_type": "code",
      "source": [
        "print(sentence_embedding_mat_head.shape)"
      ],
      "metadata": {
        "id": "tpIWw_tGoVs6"
      },
      "execution_count": null,
      "outputs": []
    },
    {
      "cell_type": "code",
      "source": [
        "max_length_headline = 48\n",
        "max_length_title = 18"
      ],
      "metadata": {
        "id": "hYT3NmpLs9Ij"
      },
      "execution_count": null,
      "outputs": []
    },
    {
      "cell_type": "markdown",
      "source": [
        "# ***Final Sentence Embedding Matrix Preparation***"
      ],
      "metadata": {
        "id": "e4oHcx5Kw85i"
      }
    },
    {
      "cell_type": "code",
      "source": [
        "final_sent_mat_title = []\n",
        "final_sent_mat_head = []"
      ],
      "metadata": {
        "id": "OFUSKeo1r8WC"
      },
      "execution_count": null,
      "outputs": []
    },
    {
      "cell_type": "markdown",
      "source": [
        "**For Title**"
      ],
      "metadata": {
        "id": "YCv42uJHE8DT"
      }
    },
    {
      "cell_type": "code",
      "source": [
        "i=0\n",
        "for i in range(len(sentence_embedding_mat_title)):\n",
        "  sentence_embedding = list(sentence_embedding_mat_title[i])\n",
        "  sent_size = len(sentence_embedding)\n",
        "  if max_length_title-sent_size > 0:\n",
        "   sentence_embedding = sentence_embedding + [0]*(max_length_title - sent_size) \n",
        "  final_sent_mat_title.append(sentence_embedding) "
      ],
      "metadata": {
        "id": "qSj73f3BfxsF"
      },
      "execution_count": null,
      "outputs": []
    },
    {
      "cell_type": "code",
      "source": [
        "final_sent_mat_title = np.array(final_sent_mat_title)\n",
        "final_sent_mat_title = final_sent_mat_title.astype('float64')\n"
      ],
      "metadata": {
        "id": "4yaCOt2XsFWK"
      },
      "execution_count": null,
      "outputs": []
    },
    {
      "cell_type": "code",
      "source": [
        "final_sent_mat_title.shape"
      ],
      "metadata": {
        "colab": {
          "base_uri": "https://localhost:8080/"
        },
        "id": "xuCh5WkisalJ",
        "outputId": "63cd4959-efe0-4cb7-f215-368de8e81699"
      },
      "execution_count": null,
      "outputs": [
        {
          "output_type": "execute_result",
          "data": {
            "text/plain": [
              "(15424, 48)"
            ]
          },
          "metadata": {},
          "execution_count": 90
        }
      ]
    },
    {
      "cell_type": "code",
      "source": [
        "df_train_title={\"Title\":list(final_sent_mat_title), \"Title_Sentiment\": list(df['SentimentTitle'])}\n",
        "df_train_headline = {\"Headline\":list(final_sent_mat_head), \"Headline_Sentiment\": list(df['SentimentHeadline'])}"
      ],
      "metadata": {
        "id": "Jh0rt_tL85Ou"
      },
      "execution_count": null,
      "outputs": []
    },
    {
      "cell_type": "markdown",
      "source": [
        "# **Saving the final preprocessed data for the headline and title**"
      ],
      "metadata": {
        "id": "fV99asemBewj"
      }
    },
    {
      "cell_type": "code",
      "source": [
        "df_final_train_title = pd.DataFrame.from_dict(df_train_title)"
      ],
      "metadata": {
        "id": "YWaCoFBj9jOQ",
        "colab": {
          "base_uri": "https://localhost:8080/"
        },
        "outputId": "536e73f3-8be5-43b5-97a6-9248f3ae9bb3"
      },
      "execution_count": null,
      "outputs": [
        {
          "output_type": "stream",
          "name": "stderr",
          "text": [
            "UserWarning: `from_dict` is not currently supported by PandasOnRay, defaulting to pandas implementation.\n"
          ]
        }
      ]
    },
    {
      "cell_type": "code",
      "source": [
        "df_final_train_head = pd.DataFrame.from_dict(df_train_headline)"
      ],
      "metadata": {
        "id": "Ah4Xjgh7Fv2r"
      },
      "execution_count": null,
      "outputs": []
    },
    {
      "cell_type": "code",
      "source": [
        "df_final_train_title.to_csv(\"/content/drive/MyDrive/Intel Challenge/Training/Title_Training.csv\", index = False)\n",
        "df_final_train_head.to_csv(\"/content/drive/MyDrive/Intel Challenge/Training/Headline_Training.csv\", index = False)"
      ],
      "metadata": {
        "id": "sF6hJqDW9_lB"
      },
      "execution_count": null,
      "outputs": []
    },
    {
      "cell_type": "markdown",
      "source": [
        "# ***Visualizing the Preprocessed Data***"
      ],
      "metadata": {
        "id": "WNEtqLGfGDW6"
      }
    },
    {
      "cell_type": "code",
      "source": [
        "df_final_train_title.head()"
      ],
      "metadata": {
        "colab": {
          "base_uri": "https://localhost:8080/",
          "height": 206
        },
        "id": "BhQLdip596hP",
        "outputId": "8233a538-9bf2-4225-a7a1-94bf95630db9"
      },
      "execution_count": 11,
      "outputs": [
        {
          "output_type": "execute_result",
          "data": {
            "text/plain": [
              "                                               Title  Title_Sentiment\n",
              "0  [-0.01304482 -0.01304482 -0.01304482 -0.013044...         0.000000\n",
              "1  [-0.00492837 -0.00492837 -0.00492837 -0.004928...         0.208333\n",
              "2  [-0.00330783 -0.00330783 -0.00330783  0.      ...        -0.425210\n",
              "3  [-0.00541078 -0.00541078 -0.00541078 -0.005410...         0.000000\n",
              "4  [-0.00563991 -0.00563991 -0.00563991 -0.005639...         0.000000"
            ],
            "text/html": [
              "<div>\n",
              "<style scoped>\n",
              "    .dataframe tbody tr th:only-of-type {\n",
              "        vertical-align: middle;\n",
              "    }\n",
              "\n",
              "    .dataframe tbody tr th {\n",
              "        vertical-align: top;\n",
              "    }\n",
              "\n",
              "    .dataframe thead th {\n",
              "        text-align: right;\n",
              "    }\n",
              "</style>\n",
              "<table border=\"1\" class=\"dataframe\">\n",
              "  <thead>\n",
              "    <tr style=\"text-align: right;\">\n",
              "      <th></th>\n",
              "      <th>Title</th>\n",
              "      <th>Title_Sentiment</th>\n",
              "    </tr>\n",
              "  </thead>\n",
              "  <tbody>\n",
              "    <tr>\n",
              "      <th>0</th>\n",
              "      <td>[-0.01304482 -0.01304482 -0.01304482 -0.013044...</td>\n",
              "      <td>0.000000</td>\n",
              "    </tr>\n",
              "    <tr>\n",
              "      <th>1</th>\n",
              "      <td>[-0.00492837 -0.00492837 -0.00492837 -0.004928...</td>\n",
              "      <td>0.208333</td>\n",
              "    </tr>\n",
              "    <tr>\n",
              "      <th>2</th>\n",
              "      <td>[-0.00330783 -0.00330783 -0.00330783  0.      ...</td>\n",
              "      <td>-0.425210</td>\n",
              "    </tr>\n",
              "    <tr>\n",
              "      <th>3</th>\n",
              "      <td>[-0.00541078 -0.00541078 -0.00541078 -0.005410...</td>\n",
              "      <td>0.000000</td>\n",
              "    </tr>\n",
              "    <tr>\n",
              "      <th>4</th>\n",
              "      <td>[-0.00563991 -0.00563991 -0.00563991 -0.005639...</td>\n",
              "      <td>0.000000</td>\n",
              "    </tr>\n",
              "  </tbody>\n",
              "</table>\n",
              "</div>"
            ]
          },
          "metadata": {},
          "execution_count": 11
        }
      ]
    }
  ]
}